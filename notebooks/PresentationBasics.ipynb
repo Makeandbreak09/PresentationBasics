{
 "cells": [
  {
   "metadata": {},
   "cell_type": "markdown",
   "source": [
    "# Presentation Basics\n",
    "Simon Buschmann - 2025"
   ],
   "id": "d580d9d5"
  },
  {
   "cell_type": "code",
   "id": "bdfc22e6",
   "metadata": {
    "hide_input": false,
    "slideshow": {
     "slide_type": "notes"
    },
    "ExecuteTime": {
     "end_time": "2025-09-03T13:22:28.839295Z",
     "start_time": "2025-09-03T13:22:28.836094Z"
    }
   },
   "source": [
    "# load manim - for 3blue1brown styled animations\n",
    "from manim import *\n",
    "\n",
    "config.media_width = \"100%\"\n",
    "config.pixel_width = 400\n",
    "config.pixel_height = 400\n",
    "\n",
    "config.verbosity = \"CRITICAL\"\n",
    "\n",
    "# toggle warnings to omit them from slides\n",
    "import warnings\n",
    "warnings.filterwarnings('ignore')\n",
    "\n",
    "# load python packages\n",
    "import numpy as np"
   ],
   "outputs": [],
   "execution_count": 13
  },
  {
   "cell_type": "markdown",
   "id": "bae87efa",
   "metadata": {
    "slideshow": {
     "slide_type": "slide"
    }
   },
   "source": [
    "<div class=\"alert alert-block alert-info\">\n",
    "<b>Tip:</b> These Notes are best read without code blocks. Run next cell and press button, to hide all code cells.\n",
    "</div>"
   ]
  },
  {
   "cell_type": "code",
   "id": "7cffbc30",
   "metadata": {
    "hide_input": true,
    "ExecuteTime": {
     "end_time": "2025-09-03T13:22:28.858502Z",
     "start_time": "2025-09-03T13:22:28.854925Z"
    }
   },
   "source": [
    "# hide input cells\n",
    "# copied from https://stackoverflow.com/questions/27934885/how-to-hide-code-from-cells-in-ipython-notebook-visualized-with-nbviewer#answer-28073228\n",
    "from IPython.display import HTML\n",
    "HTML('''<script>\n",
    "code_show=true; \n",
    "function code_toggle() {\n",
    " if (code_show){\n",
    " $('div.input').hide();\n",
    " } else {\n",
    " $('div.input').show();\n",
    " }\n",
    " code_show = !code_show\n",
    "} \n",
    "$( document ).ready(code_toggle);\n",
    "</script>\n",
    "<form action=\"javascript:code_toggle()\"><input type=\"submit\" value=\"Click here to toggle on/off the code cells. (just working in jupyter notebook, not jupyterlab)\"></form>''')"
   ],
   "outputs": [
    {
     "data": {
      "text/plain": [
       "<IPython.core.display.HTML object>"
      ],
      "text/html": [
       "<script>\n",
       "code_show=true; \n",
       "function code_toggle() {\n",
       " if (code_show){\n",
       " $('div.input').hide();\n",
       " } else {\n",
       " $('div.input').show();\n",
       " }\n",
       " code_show = !code_show\n",
       "} \n",
       "$( document ).ready(code_toggle);\n",
       "</script>\n",
       "<form action=\"javascript:code_toggle()\"><input type=\"submit\" value=\"Click here to toggle on/off the code cells. (just working in jupyter notebook, not jupyterlab)\"></form>"
      ]
     },
     "execution_count": 14,
     "metadata": {},
     "output_type": "execute_result"
    }
   ],
   "execution_count": 14
  },
  {
   "cell_type": "code",
   "id": "fc40437fa44333f9",
   "metadata": {
    "ExecuteTime": {
     "end_time": "2025-09-03T13:22:29.115736Z",
     "start_time": "2025-09-03T13:22:28.874919Z"
    }
   },
   "source": [
    "%%manim -v WARNING --disable_caching --progress_bar None -qm CreateCircle\n",
    "\n",
    "from manim import config as global_config\n",
    "config = global_config.copy()\n",
    "myTemplate = TexTemplate()\n",
    "myTemplate.add_to_preamble(r\"\\usepackage{mathrsfs}\")\n",
    "myTemplate.add_to_preamble(r\"\\usepackage[sfmath,lighttext]{kpfonts}\")\n",
    "myTemplate.add_to_preamble(r\"\\usepackage{amsmath,MnSymbol,wasysym}\")  \n",
    "config[\"tex_template\"] = myTemplate\n",
    "config.tex_template=myTemplate\n",
    "\n",
    "from manim import *\n",
    "\n",
    "class CreateCircle(Scene):\n",
    "    def construct(self):\n",
    "        circle = Circle()  # create a circle\n",
    "        circle.set_fill(PINK, opacity=0.5)  # set the color and transparency\n",
    "        self.play(Create(circle))  # show the circle on screen\n"
   ],
   "outputs": [
    {
     "data": {
      "text/plain": [
       "Manim Community \u001B[32mv0.\u001B[0m\u001B[32m19.0\u001B[0m\n",
       "\n"
      ],
      "text/html": [
       "<pre style=\"white-space:pre;overflow-x:auto;line-height:normal;font-family:Menlo,'DejaVu Sans Mono',consolas,'Courier New',monospace\">Manim Community <span style=\"color: #008000; text-decoration-color: #008000\">v0.19.0</span>\n",
       "\n",
       "</pre>\n"
      ]
     },
     "metadata": {},
     "output_type": "display_data",
     "jetTransient": {
      "display_id": null
     }
    },
    {
     "data": {
      "text/plain": [
       "<IPython.core.display.Video object>"
      ],
      "text/html": [
       "<video src=\"media\\jupyter\\CreateCircle@2025-09-03@15-22-29.mp4\" controls autoplay loop style=\"max-width: 100%;\"  >\n",
       "      Your browser does not support the <code>video</code> element.\n",
       "    </video>"
      ]
     },
     "metadata": {},
     "output_type": "display_data",
     "jetTransient": {
      "display_id": null
     }
    }
   ],
   "execution_count": 15
  }
 ],
 "metadata": {
  "celltoolbar": "Slideshow",
  "kernelspec": {
   "display_name": "Python 3 (ipykernel)",
   "language": "python",
   "name": "python3"
  },
  "language_info": {
   "codemirror_mode": {
    "name": "ipython",
    "version": 3
   },
   "file_extension": ".py",
   "mimetype": "text/x-python",
   "name": "python",
   "nbconvert_exporter": "python",
   "pygments_lexer": "ipython3",
   "version": "3.13.7"
  },
  "rise": {
   "autolaunch": true
  },
  "toc": {
   "base_numbering": 1,
   "nav_menu": {},
   "number_sections": true,
   "sideBar": true,
   "skip_h1_title": false,
   "title_cell": "Table of Contents",
   "title_sidebar": "Contents",
   "toc_cell": false,
   "toc_position": {},
   "toc_section_display": true,
   "toc_window_display": false
  }
 },
 "nbformat": 4,
 "nbformat_minor": 5
}
