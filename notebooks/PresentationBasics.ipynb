{
 "cells": [
  {
   "cell_type": "markdown",
   "id": "075eddd7",
   "metadata": {
    "slideshow": {
     "slide_type": "slide"
    },
    "tags": []
   },
   "source": [
    "<!--\n",
    "author: Simon Buschmann\n",
    "title: Presentation Basics\n",
    "-->\n",
    "\n",
    "# Presentation Basics\n",
    "Simon Buschmann - 2025\n",
    "\n",
    "Präsentation zum Paper **Real and p-adic expansions involving symmetric patterns**\n",
    "von **Boris Adamczewski & Yann Bugeaud (2005)**"
   ]
  },
  {
   "cell_type": "markdown",
   "id": "a43e3520",
   "metadata": {
    "slideshow": {
     "slide_type": "subslide"
    },
    "tags": []
   },
   "source": [
    "## Motivation\n",
    "\n",
    "- **Frage (Mahler–Mendès France Problem):**\n",
    "  Können algebraische Zahlen in verschiedenen Basisentwicklungen vorkommen?\n",
    "\n",
    "- Beispiel: Für eine 0/1-Folge $(a=(a_k))$:\n",
    "  $$\n",
    "  \\sum_{k=1}^{\\infty} \\frac{a_k}{2^k}, \\quad \\sum_{k=1}^{\\infty} \\frac{a_k}{3^k}\n",
    "  $$\n",
    "  Algebraisch **nur dann**, wenn rational."
   ]
  },
  {
   "cell_type": "markdown",
   "id": "033034e6",
   "metadata": {
    "slideshow": {
     "slide_type": "fragment"
    }
   },
   "source": [
    "- **p-adisches Analog (Problem 1):**\n",
    "  $$\n",
    "  \\alpha = \\sum_{k=1}^{\\infty} \\frac{a_k}{p^k}, \\quad \\alpha_p = \\sum_{k=1}^{\\infty} a_k p^k\n",
    "  $$\n",
    "  Vermutung: beide algebraisch ⇔ beide rational."
   ]
  },
  {
   "cell_type": "markdown",
   "id": "43a52a71",
   "metadata": {
    "slideshow": {
     "slide_type": "subslide"
    },
    "tags": []
   },
   "source": [
    "## Herausforderung\n",
    "\n",
    "- Sehr wenig bekannt über b-adische/p-adische Entwicklungen irrationaler algebraischer Zahlen.\n",
    "- Erwartung: Expansionen sind „chaotisch“ oder „normal“.\n",
    "- Problem: Wie kann man überhaupt Transzendenz beweisen?"
   ]
  },
  {
   "cell_type": "markdown",
   "id": "238d939a",
   "metadata": {
    "slideshow": {
     "slide_type": "subslide"
    },
    "tags": []
   },
   "source": [
    "## Ansatz des Papers\n",
    "\n",
    "- Einführung einer speziellen Klasse von Folgen: **palindromische Sequenzen**\n",
    "- Definition: Es treten immer wieder **symmetrische Muster** (von der Form $U_n V_n U_n$) am Anfang auf.\n",
    "- Viele klassische Folgen sind palindromisch (z. B. Thue–Morse)."
   ]
  },
  {
   "cell_type": "markdown",
   "id": "31fd802d",
   "metadata": {
    "slideshow": {
     "slide_type": "subslide"
    }
   },
   "source": [
    "## Hauptresultat (Theorem 1)\n",
    "\n",
    "**Satz:**\n",
    "Sei $(a=(a_k))$ eine palindromische Folge.\n",
    "Dann gilt für\n",
    "$$\n",
    "\\alpha = \\sum_{k=1}^\\infty \\frac{a_k}{p^k},\n",
    "\\quad\n",
    "\\alpha_p = \\sum_{k=1}^\\infty a_k p^k\n",
    "$$\n",
    "- Beide algebraisch **nur dann**, wenn rational.\n",
    "- Sonst ist mindestens eine transzendental."
   ]
  },
  {
   "cell_type": "markdown",
   "id": "dd6a6a95",
   "metadata": {
    "slideshow": {
     "slide_type": "slide"
    }
   },
   "source": [
    "# Transzendentale Zahlen"
   ]
  },
  {
   "cell_type": "markdown",
   "id": "71e6cfa3",
   "metadata": {},
   "source": [
    "<div class=\"alert alert-block alert-info\">\n",
    "<b>Tip:</b> These Notes are best read without code blocks. Run next cell and press button, to hide all code cells.\n",
    "</div>"
   ]
  },
  {
   "cell_type": "code",
   "execution_count": 1,
   "id": "188ed4dc",
   "metadata": {
    "ExecuteTime": {
     "end_time": "2025-09-18T22:23:54.820832Z",
     "start_time": "2025-09-18T22:23:54.809857Z"
    },
    "slideshow": {
     "slide_type": ""
    },
    "tags": []
   },
   "outputs": [
    {
     "data": {
      "text/html": [
       "<script>\n",
       "code_show=true; \n",
       "function code_toggle() {\n",
       " if (code_show){\n",
       " $('div.input').hide();\n",
       " } else {\n",
       " $('div.input').show();\n",
       " }\n",
       " code_show = !code_show\n",
       "} \n",
       "$( document ).ready(code_toggle);\n",
       "</script>\n",
       "<form action=\"javascript:code_toggle()\"><input type=\"submit\" value=\"Click here to toggle on/off the code cells. (just working in jupyter notebook, not jupyterlab)\"></form>"
      ],
      "text/plain": [
       "<IPython.core.display.HTML object>"
      ]
     },
     "execution_count": 1,
     "metadata": {},
     "output_type": "execute_result"
    }
   ],
   "source": [
    "# hide input cells\n",
    "# copied from https://stackoverflow.com/questions/27934885/how-to-hide-code-from-cells-in-ipython-notebook-visualized-with-nbviewer#answer-28073228\n",
    "from IPython.display import HTML\n",
    "HTML('''<script>\n",
    "code_show=true; \n",
    "function code_toggle() {\n",
    " if (code_show){\n",
    " $('div.input').hide();\n",
    " } else {\n",
    " $('div.input').show();\n",
    " }\n",
    " code_show = !code_show\n",
    "} \n",
    "$( document ).ready(code_toggle);\n",
    "</script>\n",
    "<form action=\"javascript:code_toggle()\"><input type=\"submit\" value=\"Click here to toggle on/off the code cells. (just working in jupyter notebook, not jupyterlab)\"></form>''')"
   ]
  },
  {
   "cell_type": "markdown",
   "id": "31462c05",
   "metadata": {
    "slideshow": {
     "slide_type": "slide"
    },
    "tags": []
   },
   "source": [
    "## Was sind eigentlich Transzendentale Zahlen?\n",
    "\n",
    "Neben den klassischen Zahlenmengen $\\mathbb{N}$ oder $\\mathbb{R}$, die man kennt, gibt auch die transzendentalen Zahlen $\\mathbb{T}$.\n"
   ]
  },
  {
   "cell_type": "code",
   "execution_count": 2,
   "id": "58c815b1",
   "metadata": {
    "ExecuteTime": {
     "end_time": "2025-09-18T22:23:58.325828Z",
     "start_time": "2025-09-18T22:23:55.100452Z"
    },
    "slideshow": {
     "slide_type": "skip"
    },
    "tags": []
   },
   "outputs": [
    {
     "data": {
      "text/html": [
       "<pre style=\"white-space:pre;overflow-x:auto;line-height:normal;font-family:Menlo,'DejaVu Sans Mono',consolas,'Courier New',monospace\">Manim Community <span style=\"color: #008000; text-decoration-color: #008000\">v0.18.0.post0</span>\n",
       "\n",
       "</pre>\n"
      ],
      "text/plain": [
       "Manim Community \u001b[32mv0.\u001b[0m\u001b[32m18.0\u001b[0m\u001b[32m.post0\u001b[0m\n",
       "\n"
      ]
     },
     "metadata": {},
     "output_type": "display_data"
    }
   ],
   "source": [
    "# load manim - for 3blue1brown styled animations\n",
    "from manim import *\n",
    "\n",
    "config.media_width = \"100%\"\n",
    "config.pixel_width = 200\n",
    "config.pixel_height = 200\n",
    "\n",
    "config.verbosity = \"CRITICAL\"\n",
    "\n",
    "# toggle warnings to omit them from slides\n",
    "import warnings\n",
    "warnings.filterwarnings('ignore')\n",
    "\n",
    "# load python packages\n",
    "import numpy as np"
   ]
  },
  {
   "cell_type": "code",
   "execution_count": 3,
   "id": "547660a5",
   "metadata": {
    "ExecuteTime": {
     "end_time": "2025-09-18T22:24:05.613470Z",
     "start_time": "2025-09-18T22:23:58.347292Z"
    },
    "editable": false,
    "slideshow": {
     "slide_type": "subslide"
    },
    "tags": []
   },
   "outputs": [
    {
     "data": {
      "text/html": [
       "<video src=\"media/jupyter/CreateNumbers@2025-09-19@16-35-22.mp4\" controls autoplay loop style=\"max-width: 100%;\"  >\n",
       "      Your browser does not support the <code>video</code> element.\n",
       "    </video>"
      ],
      "text/plain": [
       "<IPython.core.display.Video object>"
      ]
     },
     "metadata": {},
     "output_type": "display_data"
    }
   ],
   "source": [
    "%%manim -v WARNING --disable_caching --progress_bar None -qm CreateNumbers\n",
    "\n",
    "from manim import config as global_config\n",
    "config = global_config.copy()\n",
    "myTemplate = TexTemplate()\n",
    "myTemplate.add_to_preamble(r\"\\usepackage{mathrsfs}\")\n",
    "myTemplate.add_to_preamble(r\"\\usepackage[sfmath,lighttext]{kpfonts}\")\n",
    "myTemplate.add_to_preamble(r\"\\usepackage{amsmath,MnSymbol,wasysym}\")\n",
    "config[\"tex_template\"] = myTemplate\n",
    "config.tex_template=myTemplate\n",
    "\n",
    "class CreateNumbers(Scene):\n",
    "    def construct(self):\n",
    "        circleN = Circle(radius=1.0, color=WHITE, fill_opacity=0.2) # create a circle\n",
    "        textN = MathTex(\"\\mathbb{N}\", font_size=48)\n",
    "        self.play(Create(circleN), Write(textN)) # show the circle on screen\n",
    "\n",
    "        circleZ = Circle(radius=1.5, color=WHITE, fill_opacity=0.2) # create a circle\n",
    "        circleZ.align_to(circleN, LEFT)\n",
    "        textZ = MathTex(\"\\mathbb{Z}\", font_size=48)\n",
    "        textZ.align_to(circleZ, RIGHT)\n",
    "        textZ.shift(0.5*LEFT)\n",
    "        self.play(Create(circleZ), Write(textZ)) # show the circle on screen\n",
    "\n",
    "        circleQ = Circle(radius=2.0, color=WHITE, fill_opacity=0.2) # create a circle\n",
    "        circleQ.align_to(circleN, LEFT)\n",
    "        textQ = MathTex(\"\\mathbb{Q}\", font_size=48)\n",
    "        textQ.align_to(circleQ, RIGHT)\n",
    "        textQ.shift(0.5*LEFT)\n",
    "        self.play(Create(circleQ), Write(textQ)) # show the circle on screen\n",
    "\n",
    "        circleR = Circle(radius=2.5, color=WHITE, fill_opacity=0.2) # create a circle\n",
    "        circleR.align_to(circleN, LEFT)\n",
    "        textR = MathTex(\"\\mathbb{R}\", font_size=48)\n",
    "        textR.align_to(circleR, RIGHT)\n",
    "        textR.shift(0.5*LEFT)\n",
    "        self.play(Create(circleR), Write(textR)) # show the circle on screen\n",
    "\n",
    "        # circleC = Circle(radius=3, color=WHITE, fill_opacity=0.2) # create a circle\n",
    "        # circleC.align_to(circleN, LEFT)\n",
    "        # textC = MathTex(\"\\mathbb{C}\", font_size=48)\n",
    "        # textC.align_to(circleC, RIGHT)\n",
    "        # textC.shift(0.5*LEFT)\n",
    "        # self.play(Create(circleC), Write(textC)) # show the circle on screen\n",
    "\n",
    "        self.wait(3)\n",
    "\n",
    "        frage = Text(\"Wo sind die \\n transzendenten \\n Zahlen?\")\n",
    "        frage.shift(4*LEFT + 2*UP)\n",
    "        self.play(Write(frage))\n",
    "        \n",
    "        self.wait(3)\n",
    "\n",
    "        circleT = Ellipse(width=5, height=4.5, color=RED, fill_opacity=0.2) # create a circle\n",
    "        circleT.align_to(circleN, LEFT)\n",
    "        textT = MathTex(\"\\mathbb{T}\", font_size=48, color=RED)\n",
    "        textT.align_to(circleT, RIGHT)\n",
    "        textT.shift(0.5*LEFT + DOWN)\n",
    "        self.play(Create(circleT), Write(textT)) # show the circle on screen\n",
    "        \n",
    "        self.wait(3)\n",
    "\n",
    "        formel1 = MathTex(\"\\mathbb{Q} \\subset \\mathbb{T}\")\n",
    "        formel2 = MathTex(\"\\mathbb{T} \\subset \\mathbb{R}\")\n",
    "        # formel3 = MathTex(\"\\mathbb{T} \\subset \\mathbb{C}\")\n",
    "        formel1.shift(4*LEFT + 0*DOWN)\n",
    "        formel2.shift(4*LEFT + 1*DOWN)\n",
    "        # formel3.shift(4*LEFT + 2*DOWN)\n",
    "        self.play(\n",
    "            Write(formel1), \n",
    "            Write(formel2),\n",
    "            # Write(formel3),\n",
    "            )\n",
    "        \n",
    "        self.wait(3)"
   ]
  },
  {
   "cell_type": "markdown",
   "id": "02488e0c",
   "metadata": {
    "slideshow": {
     "slide_type": "subslide"
    },
    "tags": []
   },
   "source": [
    "## Wie kann man bestimmen ob eine Zahl transzendent ist?\n",
    "\n",
    "Gegeben: Zahl $x$ und Operationen $+$, $-$, $\\cdot$, $:$ und $()^n$ und beliebige ganze Zahlen\n",
    "\n",
    "Ziel: Die Zahl zu $0$ umzuformen\n",
    "\n",
    "\n",
    "Falls das möglich ist, ist $x$ algebraisch, sonst transzendental."
   ]
  },
  {
   "cell_type": "markdown",
   "id": "2543dc86",
   "metadata": {
    "slideshow": {
     "slide_type": "notes"
    },
    "tags": []
   },
   "source": [
    "## Wie kann man bestimmen ob eine Zahl transzendent ist?\n",
    "\n",
    "Wir versuchen eine gegebene Zahl $x$ mit den Operationen $+$, $-$, $\\cdot$, $:$ und $()^n$ und beliebigen ganzen Zahlen so umzuformen, dass diese $0$ wird.\n",
    "Falls das möglich ist, ist $x$ algebraisch, sonst transzendental."
   ]
  },
  {
   "cell_type": "markdown",
   "id": "72caf99f",
   "metadata": {
    "slideshow": {
     "slide_type": "subslide"
    }
   },
   "source": [
    "### Beispiel \n",
    "\n",
    "Unsere Zahl ist $x=10$:\n",
    "\\begin{align*}\n",
    "    10-10=0\n",
    "\\end{align*}\n"
   ]
  },
  {
   "cell_type": "markdown",
   "id": "8816a5b5",
   "metadata": {
    "slideshow": {
     "slide_type": "fragment"
    }
   },
   "source": [
    "Unsere Zahl ist $x=\\frac{3}{4}$:\n",
    "\\begin{align*}\n",
    "    (\\frac{3}{4} \\cdot 4)-3=0\n",
    "\\end{align*}\n"
   ]
  },
  {
   "cell_type": "markdown",
   "id": "d3f2da65",
   "metadata": {
    "slideshow": {
     "slide_type": "subslide"
    }
   },
   "source": [
    "Unsere Zahl ist $x=\\sqrt{2}$:\n",
    "\\begin{align*}\n",
    "    (\\sqrt{2})^2-2=0\n",
    "\\end{align*}\n"
   ]
  },
  {
   "cell_type": "markdown",
   "id": "bbd5fa19",
   "metadata": {
    "slideshow": {
     "slide_type": "fragment"
    }
   },
   "source": [
    "Unsere Zahl ist $x=\\sqrt{2}+\\sqrt{3}$:\n",
    "\\begin{align*}\n",
    "    (\\sqrt{2}+\\sqrt{3})^2 &= 5 + 2\\cdot\\sqrt{6} \\\\\n",
    "    \\Rightarrow (\\sqrt{2}+\\sqrt{3})^2 - 5 &= 2\\cdot\\sqrt{6} \\\\\n",
    "    \\Rightarrow ((\\sqrt{2}+\\sqrt{3})^2-5)^2 &= 24 \\\\\n",
    "    \\Rightarrow ((\\sqrt{2}+\\sqrt{3})^2-5)^2-24 &= 0\n",
    "\\end{align*}\n"
   ]
  },
  {
   "cell_type": "markdown",
   "id": "6ff8c2cb",
   "metadata": {
    "slideshow": {
     "slide_type": "subslide"
    }
   },
   "source": [
    "Bekanntesten transzendenten Zahlen sind $\\pi$ und $e$.\n"
   ]
  },
  {
   "cell_type": "markdown",
   "id": "5ed38720",
   "metadata": {
    "slideshow": {
     "slide_type": "subslide"
    }
   },
   "source": [
    "Die Regel ist also: Eine Zahl $x$ ist algebraisch, falls ein Polynom $f$ existiert, sodass $f(x)=0$ gilt. Sonst ist $x$ transzentental."
   ]
  },
  {
   "cell_type": "markdown",
   "id": "5f85fb19",
   "metadata": {
    "slideshow": {
     "slide_type": "slide"
    },
    "tags": []
   },
   "source": [
    "# p-adische Zahlen"
   ]
  },
  {
   "cell_type": "markdown",
   "id": "6ddcf83e",
   "metadata": {
    "slideshow": {
     "slide_type": "subslide"
    }
   },
   "source": [
    "## Was sind $p$-adische Zahlen?\n",
    "\n",
    "Anstatt unendlich viele Nachkommastellen zu erlauben $$3,1415926\\dots$$ erlauben die $p$-adischen Zahlen unendlich viele Vorkommastellen $$\\dots66666667$$"
   ]
  },
  {
   "cell_type": "markdown",
   "id": "527fa7c9",
   "metadata": {
    "slideshow": {
     "slide_type": "notes"
    }
   },
   "source": [
    "Neben den normalen Zahlensystemen der Dezimalzahlen oder der Binärzahlen, welche alle eine begrenzte Anzahl an Ziffern links des Kommas und möglicherweise unendlich viele Ziffern rechts des Kommas haben, kann man auch unendliche viele Ziffern links des Kommas erlauben und dafür nur endlich viele Ziffern rechts des Kommas erlauben.\n",
    "\n",
    "Dabei ist $p$ normalerweise eine belibige Primzahl.\n",
    "\n",
    "Wir betrachten im folgenden einmal die $10$-adischen Zahlen, damit wir besser zwischen den Dezimalzahlen und den $10$-adischen Zahlen vergleichen können. 10 ist hierbei keine Primzahl, darauf kommen wir später zurück."
   ]
  },
  {
   "cell_type": "markdown",
   "id": "051cf5ed",
   "metadata": {
    "slideshow": {
     "slide_type": "subslide"
    }
   },
   "source": [
    "### Wie kann man das verstehen?\n",
    "Alle ganzen Zahlen oder Zahlen mit endlich vielen Nachkommastellen kann man automatisch als entsprechende $p$-adische Zahl verstehen. \n",
    "$$\n",
    "69,420000 \\dots \\hat{=} \\dots 00069,42\n",
    "$$"
   ]
  },
  {
   "cell_type": "markdown",
   "id": "7f263b8d",
   "metadata": {
    "slideshow": {
     "slide_type": "fragment"
    }
   },
   "source": [
    "Neue Zahlen: \n",
    "$$\n",
    "\\overline{3}3333,0\n",
    "$$"
   ]
  },
  {
   "cell_type": "markdown",
   "id": "03493763",
   "metadata": {
    "slideshow": {
     "slide_type": "notes"
    }
   },
   "source": [
    "Also zunächst sind alle Zahlen aus $\\mathbb{Z}$ automatisch auch $10$-adischen Zahlen. So wie man $315=315,00000\\dots$ erweitern kann, kann man auch $315=\\dots 0000315$ erweitern.\n",
    "\n",
    "Genauso sind alle rationalen Zahlen, welche endliche viele Ziffern rechts vom Komma haben auch $10$-adischen Zahlen. Z.B. $4,20=4,200000\\dots$ entspricht der $10$-adischen Zahlen $4,20=\\dots 0004,20$\n",
    "\n",
    "\n",
    "Jetzt kommen wir aber zur eigentlichenen Neuerung. Im Dezimalsystem erlauben wir auch Zahlen wie z.B. $0,\\overline{3}=\\frac{1}{3}$. Im $10$-adischen Zahlenraum erlauben wir z.B. die Zahl $\\overline{3},0$. Dabei ist aber zu beachten, dass wir nicht die beiden Zahlen gleichgesetzt haben, es gilt also $0,\\overline{3} \\not=  \\overline{3},0$."
   ]
  },
  {
   "cell_type": "markdown",
   "id": "08be2732",
   "metadata": {
    "slideshow": {
     "slide_type": "subslide"
    }
   },
   "source": [
    "### Kann man mit den p-adischen Zahlen rechnen?\n",
    "\n",
    "Addition, Subtraktion, Multiplikation genau gleich.\n",
    "\n",
    "\n",
    "Division mit einer Primzahl als Basis möglich.\n"
   ]
  },
  {
   "cell_type": "markdown",
   "id": "75adb972",
   "metadata": {
    "slideshow": {
     "slide_type": "notes"
    }
   },
   "source": [
    "Wir können die Addition, Subtraktion und Multiplikation über den $p$-adische Zahlen genauso definieren, wie auch über den reellen Zahlen. Dabei muss man zwas eventuell die Rechnung unendliche Lange nach links weiterführen, das ist aber nicht so viel anders dazu, die Rechnung unendliche lange nach rechts weiterzuführen.\n"
   ]
  },
  {
   "cell_type": "markdown",
   "id": "427c4d77",
   "metadata": {
    "cell_style": "split",
    "slideshow": {
     "slide_type": "subslide"
    }
   },
   "source": [
    "***Addition***:\n",
    "\n",
    "**Reelle Zahlen**: \n",
    "\n",
    "\\begin{align*}\n",
    "        & 0,333\\overline{3} \\\\\n",
    "    +   & 0,333\\overline{3} \\\\\n",
    "    \\hline\n",
    "        & 0,666\\overline{6}\n",
    "\\end{align*}"
   ]
  },
  {
   "cell_type": "markdown",
   "id": "43951744",
   "metadata": {
    "cell_style": "split",
    "hide_input": false,
    "slideshow": {
     "slide_type": "fragment"
    }
   },
   "source": [
    "**$10$-adische Zahlen**: \n",
    "\n",
    "\\begin{align*}\n",
    "    \\overline{9}99 & 9 \\\\\n",
    "    +   & 1 \\\\\n",
    "    \\hline\n",
    "    \\overline{0}00 & 0\n",
    "\\end{align*}"
   ]
  },
  {
   "cell_type": "markdown",
   "id": "9d086700",
   "metadata": {
    "cell_style": "center",
    "hide_input": false,
    "slideshow": {
     "slide_type": "fragment"
    }
   },
   "source": [
    "\\begin{align*}\n",
    "    \\overline{9}999 & \\hat{=} -1  \\\\\n",
    "    \\overline{9}998 & \\hat{=} -2  \\\\\n",
    "    \\overline{9}997 & \\hat{=} -3  \\\\\n",
    "    \\overline{9}996 & \\hat{=} -4  \\\\\n",
    "    & \\dots\n",
    "\\end{align*}\n",
    "\n",
    "Man kann also in den $10$-adischen Zahlen eigentlich negative Zahlen ohne einen minus-Zeichen darstellen."
   ]
  },
  {
   "cell_type": "markdown",
   "id": "e8277d67",
   "metadata": {
    "cell_style": "split",
    "slideshow": {
     "slide_type": "subslide"
    }
   },
   "source": [
    "***Multiplikation***:\n",
    "\n",
    "**Reelle Zahlen**:\n",
    "\n",
    "\\begin{align*}\n",
    "    0,333 & \\overline{3} \\\\\n",
    "    \\cdot   & 3 \\\\\n",
    "    \\hline\n",
    "        & 1\n",
    "\\end{align*}"
   ]
  },
  {
   "cell_type": "markdown",
   "id": "18f863c6",
   "metadata": {
    "cell_style": "split",
    "slideshow": {
     "slide_type": "fragment"
    }
   },
   "source": [
    "**$10$-adische Zahlen**: \n",
    "\n",
    "\\begin{align*}\n",
    "    \\overline{6}66 & 7 \\\\\n",
    "    \\cdot   & 3 \\\\\n",
    "    \\hline\n",
    "    & 1 \\\\\n",
    "\\end{align*}"
   ]
  },
  {
   "cell_type": "markdown",
   "id": "150f3d0a",
   "metadata": {
    "cell_style": "center",
    "slideshow": {
     "slide_type": "fragment"
    }
   },
   "source": [
    "Also $\\overline{6}667 \\hat{=} \\frac{1}{3}$\n"
   ]
  },
  {
   "cell_type": "markdown",
   "id": "b64132c4",
   "metadata": {
    "cell_style": "center",
    "slideshow": {
     "slide_type": "subslide"
    }
   },
   "source": [
    "Was ist die $10$-adische Zahl von $-\\frac{1}{3}$?\n",
    "\n",
    "1. Bestimme die $10$-adische Zahl von $\\frac{1}{3}$:\n",
    "\n",
    "    \\begin{align*}\n",
    "        x \\cdot 3 &= 1 \\\\\n",
    "        \\Rightarrow x &= \\overline{6}667\n",
    "    \\end{align*}"
   ]
  },
  {
   "cell_type": "markdown",
   "id": "e8941c24",
   "metadata": {
    "slideshow": {
     "slide_type": "fragment"
    }
   },
   "source": [
    "2. Bestimme die $10$-adische Zahl von $-\\frac{1}{3}$:\n",
    "\n",
    "    \\begin{align*}\n",
    "        x + \\overline{6}66 7 &= 0 \\\\\n",
    "        \\Rightarrow x &= \\overline{3}333\n",
    "    \\end{align*}\n",
    "\n",
    "    Also entspricht $\\overline{3}333 \\hat{=} -\\frac{1}{3}$."
   ]
  },
  {
   "cell_type": "markdown",
   "id": "718c40d7",
   "metadata": {
    "slideshow": {
     "slide_type": "subslide"
    }
   },
   "source": [
    "Was ist die $10$-adische Zahl von $-\\frac{3}{4}$?\n",
    "\n",
    "1. Bestimme die $10$-adische Zahl von $\\frac{1}{4}$:\n",
    "\n",
    "    \\begin{align*}\n",
    "        x \\cdot 4 &= 1 \\\\\n",
    "        \\dots x_3 x_2 x_1 x_0 \\cdot 4 &= 1 \\\\\n",
    "    \\end{align*}"
   ]
  },
  {
   "cell_type": "markdown",
   "id": "e88c2abe",
   "metadata": {
    "slideshow": {
     "slide_type": "fragment"
    }
   },
   "source": [
    "Geht nicht!"
   ]
  },
  {
   "cell_type": "markdown",
   "id": "d5e1ca08",
   "metadata": {
    "slideshow": {
     "slide_type": "notes"
    }
   },
   "source": [
    "Hier haben wir unser erstes Problem mit der Basis $10$. Es existiert keine Ziffer $x_0 \\in \\{0, \\dots, 9\\}$, sodass $(x_0 \\cdot 4) \\text{ mod } 10 = 1$ gilt. Würden wir als Basis eine Primzahl wählen, würde immer eine solche Zahl existieren. Für die Basis $10$ lässt sich also nicht immer eine 10-adische ganze Zahl finden."
   ]
  },
  {
   "cell_type": "markdown",
   "id": "f2f03cce",
   "metadata": {
    "slideshow": {
     "slide_type": "slide"
    },
    "tags": []
   },
   "source": [
    "# Das Paper"
   ]
  },
  {
   "cell_type": "markdown",
   "id": "9845bf87",
   "metadata": {
    "slideshow": {
     "slide_type": "notes"
    },
    "tags": []
   },
   "source": [
    "In dem Paper *Real and p-adic expansions involving symmetric patterns* untersuchen *Boris ADAMCZEWSKI* und *Yann BUGEAUD*, in was für einem Zusammenhang eine reale Zahl und eine p-adische Zahl im Bezug auf ihre Transzendenz bei gleicher Folge sind. Dabei nennen sie ein ähnliche Problem als Basis und erweitern dieses um die $p$-adischen Zahlen."
   ]
  },
  {
   "cell_type": "markdown",
   "id": "d043f09e",
   "metadata": {
    "cell_style": "split",
    "slideshow": {
     "slide_type": "subslide"
    },
    "tags": []
   },
   "source": [
    "### *Mahler–Mendés France* Problem:\n",
    "\n",
    "$$\\sum_{k=1}^{\\infty}\\frac{a_k}{2^k} \\qquad \\text{und} \\qquad \\sum_{k=1}^{\\infty}\\frac{a_k}{3^k}$$\n",
    "Beide algebraisch, genau dann wenn beide auch rational."
   ]
  },
  {
   "cell_type": "markdown",
   "id": "ef724daf",
   "metadata": {
    "cell_style": "split",
    "slideshow": {
     "slide_type": "fragment"
    },
    "tags": []
   },
   "source": [
    "### *Boris ADAMCZEWSKI* und *Yann BUGEAUD* Problem:\n",
    "\n",
    "$$\\alpha = \\sum_{k=1}^{\\infty}\\frac{a_k}{p^k} \\qquad \\text{und} \\qquad \\alpha_p = \\sum_{k=1}^{\\infty}a_k p^k$$\n",
    "Beide algebraisch, genau dann wenn beide auch rational."
   ]
  },
  {
   "cell_type": "markdown",
   "id": "e9e78b43",
   "metadata": {
    "slideshow": {
     "slide_type": "notes"
    }
   },
   "source": [
    "Dabei konvergieren die Folgen gegen eine rationale Zahl, wenn die Folge irgendwann periodisch wird. Man kan die Folgen dann nähmlich in endlich viele unterfolgen aufteilen, welche dann geometrischen Reihen ähneln. Diese konvergieren gegen eine rationale Zahl und die Summe von rationalen Zahlen ist auch wieder rational. Eine andere Formulierung für das Problem wäre also: Genau dann wenn die Folge $a$ irgendwann periodisch ist, sind beide Zahlen algebraisch oder genau dann wenn die Folge $a$ nicht irgendwann periodisch ist, dann ist min. eine der Zahlen transzendent.\n",
    "\n",
    "\n",
    "Um dieses Problem zu untersuchen, stellen sie drei Theoreme auf, welche sie im Verlauf des Papers beweisen. Mit diesen Theoremen lässt sich das Problem für eine eingeschränkte Menge an Folgen beweisen, nähmlich den palindromischen Folgen."
   ]
  },
  {
   "cell_type": "markdown",
   "id": "5ccba06b",
   "metadata": {
    "slideshow": {
     "slide_type": "fragment"
    }
   },
   "source": [
    "### Theorem 1\n",
    "Seien $p$ Primzahl und $a=(a_k)_{k \\geq 1}$ über $\\{0,1,\\dots,p-1\\}$ eine unendliche palindromische Folge. \n",
    "$$\\alpha = \\sum_{k=1}^{\\infty}\\frac{a_k}{p^k} \\qquad \\text{und} \\qquad \\alpha_p = \\sum_{k=1}^{\\infty}a_k p^k$$ \n",
    "Beide algebraisch, genau dann wenn beide rational."
   ]
  },
  {
   "cell_type": "markdown",
   "id": "26350f1d",
   "metadata": {
    "slideshow": {
     "slide_type": "subslide"
    }
   },
   "source": [
    "## Palindromische Folgen\n",
    "\n",
    "Unendliche Folge $a=(a_k)_{k \\geq 1}$ Palindromisch, falls unendliche Folgen von Wörtern $(U_n)_{n\\geq1}$, $(V_n)_{n\\geq1}$, $(W_n)_{n\\geq1}$ existieren mit:\n",
    "\n",
    "1. $W_nU_nV_n\\overline{U_n}$ ist präfix von a\n",
    "2. $|V_n|/|U_n|$ ist beschränkt durch $w$\n",
    "3. $|W_n|/|U_n|$ ist beschränkt durch $w$\n",
    "4. $|U_n|$ wächst"
   ]
  },
  {
   "cell_type": "code",
   "execution_count": 4,
   "id": "fc53a4c6",
   "metadata": {
    "scrolled": false,
    "slideshow": {
     "slide_type": "subslide"
    }
   },
   "outputs": [
    {
     "data": {
      "text/html": [
       "<video src=\"media/jupyter/CreateThueMorse@2025-09-19@16-35-38.mp4\" controls autoplay loop style=\"max-width: 100%;\"  >\n",
       "      Your browser does not support the <code>video</code> element.\n",
       "    </video>"
      ],
      "text/plain": [
       "<IPython.core.display.Video object>"
      ]
     },
     "metadata": {},
     "output_type": "display_data"
    }
   ],
   "source": [
    "%%manim -v WARNING --disable_caching --progress_bar None -qm CreateThueMorse\n",
    "\n",
    "from manim import config as global_config\n",
    "config = global_config.copy()\n",
    "myTemplate = TexTemplate()\n",
    "myTemplate.add_to_preamble(r\"\\usepackage{mathrsfs}\")\n",
    "myTemplate.add_to_preamble(r\"\\usepackage[sfmath,lighttext]{kpfonts}\")\n",
    "myTemplate.add_to_preamble(r\"\\usepackage{amsmath,MnSymbol,wasysym}\")\n",
    "config[\"tex_template\"] = myTemplate\n",
    "config.tex_template=myTemplate\n",
    "\n",
    "def create_textbox(color, string, size=1):\n",
    "    result = VGroup() # create a VGroup\n",
    "    box = Rectangle(  # create a box\n",
    "        height=size, width=size, fill_color=color, \n",
    "        fill_opacity=0.5, stroke_color=color\n",
    "    )\n",
    "    text = Text(string).move_to(box.get_center()) # create text\n",
    "    result.add(box, text) # add both objects to the VGroup\n",
    "    return result\n",
    "\n",
    "class CreateThueMorse(Scene):\n",
    "    def construct(self):\n",
    "        size = 0.75\n",
    "        shift = 6\n",
    "        n = 6\n",
    "        seq = [0]\n",
    "        color = [\"BLUE\",\"RED\"]\n",
    "        delay = 1\n",
    "        \n",
    "        title = Text(\"Thue–Morse Folge\", font_size=48).shift(2*UP)\n",
    "        self.add(title)\n",
    "        \n",
    "        group = Group(create_textbox(color=BLUE, string=f\"{seq[0]}\", size=size))\n",
    "        [textbox.shift((shift)*LEFT) for textbox in group]\n",
    "        self.add(group)\n",
    "        \n",
    "        for i in range(n):\n",
    "            tempGroup = group.copy()\n",
    "            self.add(tempGroup)\n",
    "            self.play(tempGroup.animate(run_time=delay/(i+1)).shift(size*DOWN))\n",
    "            self.play(\n",
    "                *[textbox[0].animate(run_time=delay/(i+1)).set_fill(color=color[1-seq[i]],opacity=0.5) for i,textbox in enumerate(tempGroup)],\n",
    "                *[Transform(textbox[1],Text(f\"{1-seq[i]}\").shift(size*(DOWN+(i-(shift/size))*RIGHT))) for i,textbox in enumerate(tempGroup)]\n",
    "            )\n",
    "            self.play(tempGroup.animate(run_time=delay/(i+1)).shift(size*(UP + (len(seq))*RIGHT)))\n",
    "            seq = seq + [1-i for i in seq]\n",
    "            [group.add(textbox) for textbox in tempGroup]\n",
    "            [textbox[0].set_fill(color=color[seq[i]]) for i,textbox in enumerate(group)]\n",
    "            \n",
    "            self.wait(delay/(i+1))\n",
    "            \n",
    "        for i in range(3):\n",
    "            brace1 = BraceBetweenPoints([-shift,-0.5,0],[-shift+size*(2*4**i-1),-0.5,0])\n",
    "            brace2 = BraceBetweenPoints([-shift+size*(2*4**i),-0.5,0],[-shift+size*(2*4**i*2-1),-0.5,0])\n",
    "            label1 = Tex(r\"$U_{\"+f\"{i+1}\"+\"}$\").shift((-shift+size*(2*4**i-1)/2)*RIGHT + 1.5*DOWN)\n",
    "            label2 = Tex(r\"$\\overline{U_{\"+f\"{i+1}\"+\"}}$\").shift((-shift+size*((2*4**i) + (2*4**i-1)/2))*RIGHT + 1.5*DOWN)\n",
    "            self.play(Create(brace1), Create(brace2), Write(label1), Write(label2))\n",
    "            \n",
    "            self.wait(2)\n",
    "            \n",
    "            self.remove(brace1, brace2, label1, label2)\n",
    "            \n",
    "        self.wait(2)"
   ]
  },
  {
   "cell_type": "markdown",
   "id": "c6a13439",
   "metadata": {
    "slideshow": {
     "slide_type": "fragment"
    }
   },
   "source": [
    "Die Thue-Morse Folge ist also auf das Theorem anwendbar."
   ]
  },
  {
   "cell_type": "markdown",
   "id": "2b4b2941",
   "metadata": {
    "slideshow": {
     "slide_type": "subslide"
    }
   },
   "source": [
    "## Beispiele"
   ]
  },
  {
   "cell_type": "markdown",
   "id": "7050d4ef",
   "metadata": {
    "slideshow": {
     "slide_type": "notes"
    }
   },
   "source": [
    "### Code\n",
    "Im folgenden habe ich etwas code erstellt, mit welchem man mit p-adischen Zahlen rechnen kann."
   ]
  },
  {
   "cell_type": "code",
   "execution_count": 5,
   "id": "e93b6a26",
   "metadata": {
    "ExecuteTime": {
     "end_time": "2025-09-18T22:24:05.649901Z",
     "start_time": "2025-09-18T22:24:05.633136Z"
    },
    "jupyter": {
     "source_hidden": true
    },
    "slideshow": {
     "slide_type": "notes"
    }
   },
   "outputs": [],
   "source": [
    "class PAdic:\n",
    "    def __init__(self, value: int, p: int, precision: int = 10):\n",
    "        \"\"\"\n",
    "        value: Ganze Zahl, die dargestellt werden soll\n",
    "        p: Primzahlbasis\n",
    "        precision: Anzahl Ziffern in p-adischer Entwicklung\n",
    "        \"\"\"\n",
    "        if p < 2:\n",
    "            raise ValueError(\"p muss >= 2 sein\")\n",
    "\n",
    "        self.p = p\n",
    "        self.precision = precision\n",
    "        self.digits = self._to_digits(value)\n",
    "\n",
    "    def _to_digits(self, value):\n",
    "        \"\"\"Zerlegt self.value in p-adische Ziffern\"\"\"\n",
    "        n = value\n",
    "        digits = []\n",
    "        for _ in range(self.precision):\n",
    "            digits.append(n % self.p)\n",
    "            n //= self.p\n",
    "        return digits\n",
    "\n",
    "    def __str__(self):\n",
    "        \"\"\"Gibt die p-adische Entwicklung aus (z.B. [a0,a1,a2,...]_p)\"\"\"\n",
    "        return f\"{self.digits}_({self.p}-adisch)\"\n",
    "    \n",
    "    def __neg__(self):\n",
    "        from copy import deepcopy\n",
    "        new_PAdic = deepcopy(self)\n",
    "\n",
    "        carry = 1\n",
    "        for i in range(new_PAdic.precision):\n",
    "            new_PAdic.digits[i] = new_PAdic.p-1-new_PAdic.digits[i] + carry\n",
    "            carry = (int)(new_PAdic.digits[i] / new_PAdic.p)\n",
    "            new_PAdic.digits[i] = new_PAdic.digits[i] % new_PAdic.p\n",
    "        return new_PAdic\n",
    "\n",
    "    def __add__(self, other):\n",
    "        if (not isinstance(other, PAdic) or self.p != other.p) and not isinstance(other, int):\n",
    "            raise ValueError(\"Addition nur für gleiche p-adische Basen definiert\")\n",
    "        \n",
    "        if(isinstance(other, int)):\n",
    "            other = PAdic(value=other, p=self.p, precision=self.precision)\n",
    "\n",
    "        from copy import deepcopy\n",
    "        new_PAdic = deepcopy(self)\n",
    "\n",
    "        carry = 0\n",
    "        for i in range(new_PAdic.precision):\n",
    "            new_PAdic.digits[i] = self.digits[i]+other.digits[i] + carry\n",
    "            carry = (int)(new_PAdic.digits[i] / new_PAdic.p)\n",
    "            new_PAdic.digits[i] = new_PAdic.digits[i] % new_PAdic.p\n",
    "        return new_PAdic\n",
    "    \n",
    "    def __sub__(self, other):\n",
    "        if (not isinstance(other, PAdic) or self.p != other.p) and not isinstance(other, int):\n",
    "            raise ValueError(\"Addition nur für gleiche p-adische Basen definiert\")\n",
    "        \n",
    "        if(isinstance(other, int)):\n",
    "            other = PAdic(value=other, p=self.p, precision=self.precision)\n",
    "        \n",
    "        return self + (-other)\n",
    "\n",
    "    def __mul__(self, other):\n",
    "        if (not isinstance(other, PAdic) or self.p != other.p) and not isinstance(other, int):\n",
    "            raise ValueError(\"Multiplikation nur für gleiche p-adische Basen definiert\")\n",
    "        \n",
    "        if(isinstance(other, int)):\n",
    "            other = PAdic(value=other, p=self.p, precision=self.precision)\n",
    "\n",
    "        from copy import deepcopy\n",
    "        new_PAdic = deepcopy(self)\n",
    "\n",
    "        carry = 0\n",
    "        for i in range(new_PAdic.precision):\n",
    "            new_PAdic.digits[i] = sum(self.digits[j]*other.digits[i-j] for j in range(i+1)) + carry\n",
    "            carry = (int)(new_PAdic.digits[i] / new_PAdic.p)\n",
    "            new_PAdic.digits[i] = new_PAdic.digits[i] % new_PAdic.p\n",
    "        return new_PAdic\n",
    "    \n",
    "    def __pow__(self, pow):\n",
    "        if not isinstance(pow, int):\n",
    "            raise ValueError(\"Multiplikation nur für ganze Zahlen definiert.\")\n",
    "\n",
    "        from copy import deepcopy\n",
    "        new_PAdic = PAdic(value=1, p=p, precision=precision)\n",
    "\n",
    "        for _ in range(pow):\n",
    "            new_PAdic = new_PAdic*self\n",
    "        \n",
    "        return new_PAdic\n",
    "\n",
    "    def __eq__(self, other):\n",
    "        return (\n",
    "            isinstance(other, PAdic) and\n",
    "            self.p == other.p and\n",
    "            self.precision == other.precision\n",
    "        )\n",
    "\n",
    "    def distance(self, other) -> float:\n",
    "        \"\"\"\n",
    "        p-adische Distanz zwischen zwei PAdic-Zahlen.\n",
    "        \"\"\"\n",
    "        if not isinstance(other, PAdic) or self.p != other.p or self.precision != other.precision:\n",
    "            raise ValueError(\"Distanz nur für gleiche p-adische Basis und Präzision definiert\")\n",
    "        \n",
    "        for i in range(self.precision):\n",
    "            if(self.digits[i] != other.digits[i]):\n",
    "                return self.p**(-i)\n",
    "        return 0.0\n",
    "    \n",
    "    @staticmethod\n",
    "    def _valuation(n: int, p: int) -> int:\n",
    "        \"\"\"Hilfsfunktion: v_p(n). convention: v_p(0) = +∞.\"\"\"\n",
    "        if n == 0:\n",
    "            return float(\"inf\")\n",
    "        k = 0\n",
    "        while n % p == 0:\n",
    "            n //= p\n",
    "            k += 1\n",
    "        return k\n",
    "    \n",
    "    @staticmethod\n",
    "    def p_adic_distance(a: int, b: int, p: int) -> float:\n",
    "        \"\"\"\n",
    "        Berechnet die p-adische Distanz zwischen zwei ganzen Zahlen.\n",
    "        \"\"\"\n",
    "        if a == b:\n",
    "            return 0.0\n",
    "        v = PAdic._valuation(a - b, p)\n",
    "        return p ** (-v)\n",
    "    \n",
    "    @staticmethod\n",
    "    def PAdic_from_sequence(stat_seq, per_seq, p, precision = 10):\n",
    "        if any(v < 0 or v >= p for v in stat_seq+per_seq):\n",
    "            raise Exception(f\"The sequence can only contain numbers from 0 to {p}.\")\n",
    "        \n",
    "        value = 0\n",
    "        for i in range(precision):\n",
    "            if(i < len(stat_seq)):\n",
    "                value = value + stat_seq[i] * p**i\n",
    "            else:\n",
    "                value = value + per_seq[(i-len(stat_seq)) % len(per_seq)] * p**i\n",
    "        return PAdic(value, p, precision)\n",
    "        \n",
    "    \n",
    "    @staticmethod\n",
    "    def PAdic_from_lambda(function, p, precision = 10):\n",
    "        import time\n",
    "\n",
    "        time_out = 5\n",
    "\n",
    "        x = 1\n",
    "        value = function(x)\n",
    "        distance = float(\"inf\")\n",
    "\n",
    "        t_end = time.time() + time_out\n",
    "        while time.time() < t_end:\n",
    "            x += 1\n",
    "            new_value = function(x)  % p**precision\n",
    "            new_distance = PAdic.p_adic_distance(value, new_value, p)\n",
    "            if(distance < new_distance):\n",
    "                raise Exception(\"The function does not converge to a p-adic number.\")\n",
    "            value = new_value\n",
    "            distance = new_distance\n",
    "\n",
    "            \n",
    "        print(f\"[Finished Computing function({x}). {(t_end - time.time()).__round__(2)} seconds left.]\")\n",
    "        return PAdic(value=value, p=p, precision=precision)"
   ]
  },
  {
   "cell_type": "code",
   "execution_count": 6,
   "id": "922cc0c7",
   "metadata": {
    "ExecuteTime": {
     "end_time": "2025-09-18T22:24:05.666863Z",
     "start_time": "2025-09-18T22:24:05.661524Z"
    },
    "jupyter": {
     "source_hidden": true
    },
    "slideshow": {
     "slide_type": "notes"
    }
   },
   "outputs": [
    {
     "name": "stdout",
     "output_type": "stream",
     "text": [
      "\n",
      "[Beispiel 1]\n",
      "x: [2, 1, 0, 0, 0, 0]_(3-adisch)\n",
      "y: [1, 0, 1, 0, 0, 0]_(3-adisch)\n",
      "z: [2, 0, 0, 0, 0, 0]_(3-adisch)\n",
      "a: [2, 2, 2, 2, 2, 2]_(3-adisch)\n",
      "x+y: [0, 2, 1, 0, 0, 0]_(3-adisch)\n",
      "x-a: [0, 2, 0, 0, 0, 0]_(3-adisch)\n",
      "x*y: [2, 1, 2, 1, 0, 0]_(3-adisch)\n",
      "x*x: [1, 2, 2, 0, 0, 0]_(3-adisch)\n",
      "d(x,y): 1\n",
      "d(x,z): 0.3333333333333333\n",
      "d(x,(x*y)): 0.1111111111111111\n"
     ]
    }
   ],
   "source": [
    "### Beispiel 1 (simple Values):\n",
    "print(f\"\")\n",
    "print(f\"[Beispiel 1]\")\n",
    "b = 3\n",
    "precision = 6\n",
    "\n",
    "x = PAdic(value=5, p=b, precision=precision)   # 5 in b-adisch mit 6 Ziffern\n",
    "y = PAdic(value=10, p=b, precision=precision)\n",
    "z = PAdic(value=2, p=b, precision=precision)\n",
    "a = PAdic(value=-1, p=b, precision=precision)\n",
    "\n",
    "print(f\"x: {x}\")   # -> [2, 1, 0, 0, 0, 0]_(b-adisch)\n",
    "print(f\"y: {y}\")   # -> [1, 0, 1, 0, 0, 0]_(b-adisch)\n",
    "print(f\"z: {z}\")   # -> [2, 0, 0, 0, 0, 0]_(b-adisch)\n",
    "print(f\"a: {a}\")   # -> [2, 2, 2, 2, 2, 2]_(b-adisch)\n",
    "\n",
    "print(f\"x+y: {x + y}\")   # Addition\n",
    "print(f\"x-a: {x - a}\")   # Addition\n",
    "print(f\"x*y: {x * y}\")   # Multiplikation\n",
    "print(f\"x*x: {x * x}\")   # Multiplikation\n",
    "\n",
    "print(f\"d(x,y): {x.distance(y)}\")\n",
    "print(f\"d(x,z): {x.distance(z)}\")\n",
    "print(f\"d(x,(x*y)): {x.distance(x*y)}\")"
   ]
  },
  {
   "cell_type": "code",
   "execution_count": 7,
   "id": "751db9ec",
   "metadata": {
    "ExecuteTime": {
     "end_time": "2025-09-18T22:24:12.031580Z",
     "start_time": "2025-09-18T22:24:05.688662Z"
    },
    "jupyter": {
     "source_hidden": true
    },
    "slideshow": {
     "slide_type": "notes"
    }
   },
   "outputs": [
    {
     "name": "stdout",
     "output_type": "stream",
     "text": [
      "\n",
      "[Beispiel 2]\n",
      "x: [2, 3, 1, 3, 1, 3, 1, 3, 1, 3, 1, 3, 1, 3, 1]_(5-adisch)\n",
      "|x*3-1|: [0, 0, 0, 0, 0, 0, 0, 0, 0, 0, 0, 0, 0, 0, 0]_(5-adisch)\n"
     ]
    }
   ],
   "source": [
    "### Beispiel 2 (p-adic from sequence):\n",
    "print(f\"\")\n",
    "print(f\"[Beispiel 2]\")\n",
    "b = 5\n",
    "precision = 15\n",
    "\n",
    "stat_seq = [2]\n",
    "per_seq = [3,1]\n",
    "\n",
    "x = PAdic.PAdic_from_sequence(stat_seq, per_seq, p=b, precision=precision)   # 1/3 in b-adisch mit 6 Ziffern\n",
    "\n",
    "print(f\"x: {x}\")\n",
    "print(f\"|x*3-1|: {x*3-1}\")"
   ]
  },
  {
   "cell_type": "code",
   "execution_count": 8,
   "id": "3f08a604",
   "metadata": {
    "ExecuteTime": {
     "end_time": "2025-09-18T22:24:59.764688Z",
     "start_time": "2025-09-18T22:24:12.042108Z"
    },
    "jupyter": {
     "source_hidden": true
    },
    "slideshow": {
     "slide_type": "notes"
    }
   },
   "outputs": [
    {
     "name": "stdout",
     "output_type": "stream",
     "text": [
      "\n",
      "[Beispiel 3]\n",
      "[Finished Computing function(14). -24.5 seconds left.]\n",
      "x: [2, 1, 2, 1, 3, 4, 2, 3, 0, 3, 2, 2, 0, 4, 1]_(5-adisch)\n",
      "|x*x + 1|: [0, 0, 0, 0, 0, 0, 0, 0, 0, 0, 0, 0, 0, 0, 0]_(5-adisch)\n"
     ]
    }
   ],
   "source": [
    "### Beispiel 3 (p-adic from function):\n",
    "print(f\"\")\n",
    "print(f\"[Beispiel 3]\")\n",
    "b = 5\n",
    "precision = 15\n",
    "\n",
    "f = lambda x : 2**(5**x)\n",
    "\n",
    "x = PAdic.PAdic_from_lambda(function=f, p=b, precision=precision)   # i in b-adisch mit 6 Ziffern\n",
    "\n",
    "print(f\"x: {x}\")\n",
    "print(f\"|x*x + 1|: {x*x + 1}\")"
   ]
  },
  {
   "cell_type": "markdown",
   "id": "daf9e702",
   "metadata": {
    "slideshow": {
     "slide_type": "subslide"
    }
   },
   "source": [
    "### Beispiel 1\n",
    "\n",
    "Nemen wir mal $p=3$ und als palindromische Folge $a=22222\\dots$. Wir erhalten die zwei Zahlen $$\\alpha = \\sum_{k=1}^{\\infty}\\frac{2}{3^k} = 1$$ und $$\\alpha_3 = \\sum_{k=1}^{\\infty}2\\cdot3^k = \\overline{2}222$$."
   ]
  },
  {
   "cell_type": "markdown",
   "id": "fcf5ce35",
   "metadata": {
    "slideshow": {
     "slide_type": "fragment"
    }
   },
   "source": [
    "Die Folge ist periodisch, also sind $\\alpha$ und $\\alpha_3$ rational."
   ]
  },
  {
   "cell_type": "markdown",
   "id": "7c22f10d",
   "metadata": {
    "slideshow": {
     "slide_type": "fragment"
    }
   },
   "source": [
    "Damit wissen wir auch, dass beide Zahlen algebraisch sind."
   ]
  },
  {
   "cell_type": "code",
   "execution_count": 9,
   "id": "42c4a25d",
   "metadata": {
    "ExecuteTime": {
     "end_time": "2025-09-18T22:24:59.774016Z",
     "start_time": "2025-09-18T22:24:59.770810Z"
    },
    "jupyter": {
     "source_hidden": true
    },
    "slideshow": {
     "slide_type": "subslide"
    }
   },
   "outputs": [
    {
     "name": "stdout",
     "output_type": "stream",
     "text": [
      "a: 1\n",
      "a_p: [2, 2, 2, 2, 2, 2]_(3-adisch)\n",
      "a-1: 0\n",
      "a_p+1: [0, 0, 0, 0, 0, 0]_(3-adisch)\n"
     ]
    }
   ],
   "source": [
    "b = 3\n",
    "precision = 6\n",
    "\n",
    "a = 1\n",
    "ap = PAdic(value=-1, p=b, precision=precision)   # -1 in b-adisch mit 6 Ziffern\n",
    "\n",
    "print(f\"a: {a}\")   # -> 1\n",
    "print(f\"a_p: {ap}\")   # -> [2, 2, 2, 2, 2, 2]_(b-adisch)\n",
    "\n",
    "\n",
    "print(f\"a-1: {a-1}\")   # -> 0\n",
    "print(f\"a_p+1: {ap+1}\")   # -> [0, 0, 0, 0, 0, 0]_(b-adisch)"
   ]
  },
  {
   "cell_type": "markdown",
   "id": "dcf19507",
   "metadata": {
    "slideshow": {
     "slide_type": "fragment"
    }
   },
   "source": [
    "Tatsächlich: $\\alpha-1 = 0$ und $\\alpha_p + 1 = 0$"
   ]
  },
  {
   "cell_type": "markdown",
   "id": "9f69e1f5",
   "metadata": {
    "slideshow": {
     "slide_type": "subslide"
    }
   },
   "source": [
    "### Beispiel 2\n",
    "\n",
    "Nemen wir $p=2$ und als Folge die Thue-Morse Folge. Wir erhalten die zwei Zahlen $$\\alpha = \\sum_{k=1}^{\\infty}\\frac{a_k}{2^k} = 0,412454\\dots$$ und $$\\alpha_2 = \\sum_{k=1}^{\\infty}a_k\\cdot2^k = \\dots0110100110010110$$"
   ]
  },
  {
   "cell_type": "markdown",
   "id": "6a913393",
   "metadata": {
    "slideshow": {
     "slide_type": "fragment"
    }
   },
   "source": [
    "Da die Folge nicht periodisch ist, sind $\\alpha$ und $\\alpha_2$ nicht rational."
   ]
  },
  {
   "cell_type": "markdown",
   "id": "e6930adb",
   "metadata": {
    "slideshow": {
     "slide_type": "fragment"
    }
   },
   "source": [
    "Damit wissen wir auch, dass mindestens eine der beiden Zahlen transzendent ist."
   ]
  },
  {
   "cell_type": "markdown",
   "id": "33f58935",
   "metadata": {
    "slideshow": {
     "slide_type": "fragment"
    }
   },
   "source": [
    "$\\alpha$ ist dabei als Thue-Morse Konstante bekannt. Diese ist tatsächlich als transzendent nachgewiesen worden ([2], p. 437)."
   ]
  },
  {
   "cell_type": "markdown",
   "id": "3501eeeb",
   "metadata": {
    "slideshow": {
     "slide_type": "slide"
    }
   },
   "source": [
    "# Zusammenfassung"
   ]
  },
  {
   "cell_type": "markdown",
   "id": "0c38b781",
   "metadata": {
    "slideshow": {
     "slide_type": "fragment"
    }
   },
   "source": [
    "Transzendens ist schwer zu zeigen."
   ]
  },
  {
   "cell_type": "markdown",
   "id": "c3764e8c",
   "metadata": {
    "slideshow": {
     "slide_type": "fragment"
    }
   },
   "source": [
    "Mit dem Theorem lässt sich auf bestimmten Zahlen einfach die Transzendenz ein- bzw. ausschließen."
   ]
  },
  {
   "cell_type": "markdown",
   "id": "a10ec097",
   "metadata": {
    "slideshow": {
     "slide_type": "subslide"
    }
   },
   "source": [
    "Ende\n",
    "\n",
    "Noch Fragen?"
   ]
  },
  {
   "cell_type": "markdown",
   "id": "221e90df",
   "metadata": {
    "slideshow": {
     "slide_type": "subslide"
    }
   },
   "source": [
    "## Quellenverzeichniss\n",
    "\n",
    "[1] Adamczewski, Boris, and Yann Bugeaud. \"Real and p-adic expansions involving symmetric patterns.\" International Mathematics Research Notices 2006 (2006): 75968.\n",
    "\n",
    "[2] Finch, Steven R. Mathematical constants. Cambridge university press, 2003.\n",
    "\n",
    "\n",
    "\n"
   ]
  }
 ],
 "metadata": {
  "celltoolbar": "Slideshow",
  "kernelspec": {
   "display_name": "Python 3 (ipykernel)",
   "language": "python",
   "name": "python3"
  },
  "language_info": {
   "codemirror_mode": {
    "name": "ipython",
    "version": 3
   },
   "file_extension": ".py",
   "mimetype": "text/x-python",
   "name": "python",
   "nbconvert_exporter": "python",
   "pygments_lexer": "ipython3",
   "version": "3.8.10"
  },
  "rise": {
   "autolaunch": true
  },
  "toc": {
   "base_numbering": 1,
   "nav_menu": {},
   "number_sections": true,
   "sideBar": true,
   "skip_h1_title": false,
   "title_cell": "Table of Contents",
   "title_sidebar": "Contents",
   "toc_cell": false,
   "toc_position": {},
   "toc_section_display": true,
   "toc_window_display": false
  }
 },
 "nbformat": 4,
 "nbformat_minor": 5
}
