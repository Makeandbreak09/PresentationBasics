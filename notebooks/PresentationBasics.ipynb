{
 "cells": [
  {
   "cell_type": "markdown",
   "id": "d580d9d5",
   "metadata": {},
   "source": [
    "<!--\n",
    "author: Simon Buschmann\n",
    "title: Presentation Basics\n",
    "-->\n",
    "\n",
    "# Presentation Basics\n",
    "Simon Buschmann - 2025\n",
    "\n",
    "Präsentation zum Paper **Real and p-adic expansions involving symmetric patterns**\n",
    "von **Boris Adamczewski & Yann Bugeaud (2005)**"
   ]
  },
  {
   "cell_type": "markdown",
   "id": "4f81e3f5e3eebf31",
   "metadata": {},
   "source": [
    "## Motivation\n",
    "\n",
    "- **Frage (Mahler–Mendès France Problem):**\n",
    "  Können algebraische Zahlen in verschiedenen Basisentwicklungen vorkommen?\n",
    "\n",
    "- Beispiel: Für eine 0/1-Folge $(a=(a_k))$:\n",
    "  $$\n",
    "  \\sum_{k=1}^{\\infty} \\frac{a_k}{2^k}, \\quad \\sum_{k=1}^{\\infty} \\frac{a_k}{3^k}\n",
    "  $$\n",
    "  Algebraisch **nur dann**, wenn rational.\n",
    "\n",
    "- **p-adisches Analog (Problem 1):**\n",
    "  $$\n",
    "  \\alpha = \\sum_{k=1}^{\\infty} \\frac{a_k}{p^k}, \\quad \\alpha_p = \\sum_{k=1}^{\\infty} a_k p^k\n",
    "  $$\n",
    "  Vermutung: beide algebraisch ⇔ beide rational.\n",
    "\n",
    "---"
   ]
  },
  {
   "cell_type": "markdown",
   "id": "d771cc1be700a129",
   "metadata": {},
   "source": [
    "## Herausforderung\n",
    "\n",
    "- Sehr wenig bekannt über b-adische/p-adische Entwicklungen irrationaler algebraischer Zahlen.\n",
    "- Erwartung: Expansionen sind „chaotisch“ oder „normal“.\n",
    "- Problem: Wie kann man überhaupt Transzendenz beweisen?\n",
    "\n",
    "---"
   ]
  },
  {
   "cell_type": "markdown",
   "id": "fb813783a9cdcd43",
   "metadata": {},
   "source": [
    "## Ansatz des Papers\n",
    "\n",
    "- Einführung einer speziellen Klasse von Folgen: **palindromische Sequenzen**\n",
    "- Definition: Es treten immer wieder **symmetrische Muster** (von der Form $U_n V_n U_n$) am Anfang auf.\n",
    "- Viele klassische Folgen sind palindromisch (z. B. Thue–Morse, Sturmian, Paperfolding).\n",
    "\n",
    "---"
   ]
  },
  {
   "cell_type": "markdown",
   "id": "e00661b23b4e26de",
   "metadata": {},
   "source": [
    "## Hauptresultat (Theorem 1)\n",
    "\n",
    "**Satz:**\n",
    "Sei $(a=(a_k))$ eine palindromische Folge.\n",
    "Dann gilt für\n",
    "$$\n",
    "\\alpha = \\sum_{k=1}^\\infty \\frac{a_k}{p^k},\n",
    "\\quad\n",
    "\\alpha_p = \\sum_{k=1}^\\infty a_k p^k\n",
    "$$\n",
    "- Beide algebraisch **nur dann**, wenn rational.\n",
    "- Sonst ist mindestens eine transzendental.\n",
    "\n",
    "---"
   ]
  },
  {
   "cell_type": "markdown",
   "id": "c3da4c83095ebbae",
   "metadata": {},
   "source": [
    "## Illustration in Python\n",
    "```python\n",
    "# Beispiel: Erzeuge eine einfache palindromische Sequenz\n",
    "def palindromic_sequence(n_terms=30):\n",
    "    seq = [0, 1]  # Start\n",
    "    while len(seq) < n_terms:\n",
    "        seq += seq[::-1]  # Spiegle die bisherige Folge an\n",
    "    return seq[:n_terms]\n",
    "\n",
    "seq = palindromic_sequence(40)\n",
    "print(\"Folge:\", seq)\n",
    "\n",
    "# Approximiere α für p=2\n",
    "p = 2\n",
    "alpha = sum(seq[k]/(p**(k+1)) for k in range(len(seq)))\n",
    "alpha_p = sum(seq[k]*(p**(k+1)) for k in range(len(seq)))\n",
    "\n",
    "print(\"α ≈\", alpha)\n",
    "print(\"α_p ≈\", alpha_p)\n"
   ]
  },
  {
   "cell_type": "code",
   "execution_count": 1,
   "id": "3c317bf91c162bee",
   "metadata": {
    "ExecuteTime": {
     "end_time": "2025-09-17T12:20:53.640654Z",
     "start_time": "2025-09-17T12:20:53.631939Z"
    }
   },
   "outputs": [
    {
     "name": "stdout",
     "output_type": "stream",
     "text": [
      "Folge: [0, 1, 1, 0, 0, 1, 1, 0, 0, 1, 1, 0, 0, 1, 1, 0, 0, 1, 1, 0, 0, 1, 1, 0, 0, 1, 1, 0, 0, 1, 1, 0, 0, 1, 1, 0, 0, 1, 1, 0, 0, 1, 1, 0, 0, 1, 1, 0, 0, 1]\n",
      "α ≈ 0.39999999999999947\n",
      "α_p ≈ 1351079888211148\n"
     ]
    }
   ],
   "source": [
    "# Beispiel: Erzeuge eine einfache palindromische Sequenz\n",
    "def palindromic_sequence(n_terms=30):\n",
    "    seq = [0, 1]  # Start\n",
    "    while len(seq) < n_terms:\n",
    "        seq += seq[::-1]  # Spiegle die bisherige Folge an\n",
    "    return seq[:n_terms]\n",
    "\n",
    "seq = palindromic_sequence(50)\n",
    "print(\"Folge:\", seq)\n",
    "\n",
    "# Approximiere α für p=2\n",
    "p = 2\n",
    "alpha = sum(seq[k]/(p**(k+1)) for k in range(len(seq)))\n",
    "alpha_p = sum(seq[k]*(p**(k+1)) for k in range(len(seq)))\n",
    "\n",
    "print(\"α ≈\", alpha)\n",
    "print(\"α_p ≈\", alpha_p)"
   ]
  },
  {
   "cell_type": "code",
   "execution_count": 2,
   "id": "bdfc22e6",
   "metadata": {
    "ExecuteTime": {
     "end_time": "2025-09-17T12:21:04.068588Z",
     "start_time": "2025-09-17T12:20:57.857646Z"
    },
    "hide_input": false,
    "slideshow": {
     "slide_type": "notes"
    }
   },
   "outputs": [],
   "source": [
    "# load manim - for 3blue1brown styled animations\n",
    "from manim import *\n",
    "\n",
    "config.media_width = \"100%\"\n",
    "config.pixel_width = 400\n",
    "config.pixel_height = 400\n",
    "\n",
    "config.verbosity = \"CRITICAL\"\n",
    "\n",
    "# toggle warnings to omit them from slides\n",
    "import warnings\n",
    "warnings.filterwarnings('ignore')\n",
    "\n",
    "# load python packages\n",
    "import numpy as np"
   ]
  },
  {
   "cell_type": "code",
   "execution_count": 3,
   "id": "e7336d1f3e0eaa1b",
   "metadata": {
    "ExecuteTime": {
     "end_time": "2025-09-17T12:21:05.673094Z",
     "start_time": "2025-09-17T12:21:04.099205Z"
    }
   },
   "outputs": [
    {
     "data": {
      "text/html": [
       "<pre style=\"white-space:pre;overflow-x:auto;line-height:normal;font-family:Menlo,'DejaVu Sans Mono',consolas,'Courier New',monospace\">Manim Community <span style=\"color: #008000; text-decoration-color: #008000\">v0.19.0</span>\n",
       "\n",
       "</pre>\n"
      ],
      "text/plain": [
       "Manim Community \u001b[32mv0.\u001b[0m\u001b[32m19.0\u001b[0m\n",
       "\n"
      ]
     },
     "metadata": {},
     "output_type": "display_data"
    },
    {
     "data": {
      "text/html": [
       "<video src=\"media\\jupyter\\PalindromeAnimation@2025-09-17@14-25-52.mp4\" controls autoplay loop style=\"max-width: 100%;\"  >\n",
       "      Your browser does not support the <code>video</code> element.\n",
       "    </video>"
      ],
      "text/plain": [
       "<IPython.core.display.Video object>"
      ]
     },
     "metadata": {},
     "output_type": "display_data"
    }
   ],
   "source": [
    "%%manim -v WARNING --disable_caching --progress_bar None -qm PalindromeAnimation\n",
    "\n",
    "from manim import *\n",
    "\n",
    "class PalindromeAnimation(Scene):\n",
    "    def construct(self):\n",
    "        seq = \"0110\"\n",
    "        text = Text(seq, font_size=72)\n",
    "        self.play(Write(text))\n",
    "        self.wait(1)\n",
    "        # Markiere Spiegelung\n",
    "        brace1 = Brace(text[0:2], DOWN)\n",
    "        brace2 = Brace(text[2:4], DOWN)\n",
    "        self.play(Create(brace1), Create(brace2))\n",
    "        self.wait(2)\n"
   ]
  },
  {
   "cell_type": "markdown",
   "id": "bae87efa",
   "metadata": {
    "slideshow": {
     "slide_type": "slide"
    }
   },
   "source": [
    "<div class=\"alert alert-block alert-info\">\n",
    "<b>Tip:</b> These Notes are best read without code blocks. Run next cell and press button, to hide all code cells.\n",
    "</div>"
   ]
  },
  {
   "cell_type": "code",
   "execution_count": 4,
   "id": "7cffbc30",
   "metadata": {
    "ExecuteTime": {
     "end_time": "2025-09-17T12:21:05.704031Z",
     "start_time": "2025-09-17T12:21:05.699773Z"
    },
    "hide_input": true
   },
   "outputs": [
    {
     "data": {
      "text/html": [
       "<script>\n",
       "code_show=true; \n",
       "function code_toggle() {\n",
       " if (code_show){\n",
       " $('div.input').hide();\n",
       " } else {\n",
       " $('div.input').show();\n",
       " }\n",
       " code_show = !code_show\n",
       "} \n",
       "$( document ).ready(code_toggle);\n",
       "</script>\n",
       "<form action=\"javascript:code_toggle()\"><input type=\"submit\" value=\"Click here to toggle on/off the code cells. (just working in jupyter notebook, not jupyterlab)\"></form>"
      ],
      "text/plain": [
       "<IPython.core.display.HTML object>"
      ]
     },
     "execution_count": 4,
     "metadata": {},
     "output_type": "execute_result"
    }
   ],
   "source": [
    "# hide input cells\n",
    "# copied from https://stackoverflow.com/questions/27934885/how-to-hide-code-from-cells-in-ipython-notebook-visualized-with-nbviewer#answer-28073228\n",
    "from IPython.display import HTML\n",
    "HTML('''<script>\n",
    "code_show=true; \n",
    "function code_toggle() {\n",
    " if (code_show){\n",
    " $('div.input').hide();\n",
    " } else {\n",
    " $('div.input').show();\n",
    " }\n",
    " code_show = !code_show\n",
    "} \n",
    "$( document ).ready(code_toggle);\n",
    "</script>\n",
    "<form action=\"javascript:code_toggle()\"><input type=\"submit\" value=\"Click here to toggle on/off the code cells. (just working in jupyter notebook, not jupyterlab)\"></form>''')"
   ]
  },
  {
   "cell_type": "markdown",
   "id": "eae354fa5c4421bf",
   "metadata": {},
   "source": [
    "# Transzendentale Zahlen"
   ]
  },
  {
   "cell_type": "markdown",
   "id": "21bc8e07a26d58c1",
   "metadata": {
    "slideshow": {
     "slide_type": "slide"
    }
   },
   "source": [
    "## Was sind eigentlich Transzendentale Zahlen?\n",
    "\n",
    "Neben den klassischen Zahlenmengen $\\mathbb{N}$ oder $\\mathbb{R}$, die man kennt, gibt auch die transzendentalen Zahlen $\\mathbb{T}$."
   ]
  },
  {
   "cell_type": "code",
   "execution_count": 6,
   "id": "faadae214f40cdc6",
   "metadata": {
    "ExecuteTime": {
     "end_time": "2025-09-17T12:21:11.814193Z",
     "start_time": "2025-09-17T12:21:06.097374Z"
    }
   },
   "outputs": [
    {
     "data": {
      "text/html": [
       "<pre style=\"white-space:pre;overflow-x:auto;line-height:normal;font-family:Menlo,'DejaVu Sans Mono',consolas,'Courier New',monospace\">Manim Community <span style=\"color: #008000; text-decoration-color: #008000\">v0.19.0</span>\n",
       "\n",
       "</pre>\n"
      ],
      "text/plain": [
       "Manim Community \u001b[32mv0.\u001b[0m\u001b[32m19.0\u001b[0m\n",
       "\n"
      ]
     },
     "metadata": {},
     "output_type": "display_data"
    },
    {
     "data": {
      "text/html": [
       "<video src=\"media\\jupyter\\CreateNumbers@2025-09-17@14-25-56.mp4\" controls autoplay loop style=\"max-width: 100%;\"  >\n",
       "      Your browser does not support the <code>video</code> element.\n",
       "    </video>"
      ],
      "text/plain": [
       "<IPython.core.display.Video object>"
      ]
     },
     "metadata": {},
     "output_type": "display_data"
    }
   ],
   "source": [
    "%%manim -v WARNING --disable_caching --progress_bar None -qm CreateNumbers\n",
    "\n",
    "from manim import *\n",
    "\n",
    "from manim import config as global_config\n",
    "config = global_config.copy()\n",
    "myTemplate = TexTemplate()\n",
    "myTemplate.add_to_preamble(r\"\\usepackage{mathrsfs}\")\n",
    "myTemplate.add_to_preamble(r\"\\usepackage[sfmath,lighttext]{kpfonts}\")\n",
    "myTemplate.add_to_preamble(r\"\\usepackage{amsmath,MnSymbol,wasysym}\")\n",
    "config[\"tex_template\"] = myTemplate\n",
    "config.tex_template=myTemplate\n",
    "\n",
    "class CreateNumbers(Scene):\n",
    "    def construct(self):\n",
    "        circleN = Circle(radius=1.0, color=WHITE, fill_opacity=0.2) # create a circle\n",
    "        textN = MathTex(\"\\mathbb{N}\", font_size=48)\n",
    "        self.play(Create(circleN), Write(textN)) # show the circle on screen\n",
    "\n",
    "        circleZ = Circle(radius=1.5, color=WHITE, fill_opacity=0.2) # create a circle\n",
    "        circleZ.align_to(circleN, LEFT)\n",
    "        textZ = MathTex(\"\\mathbb{Z}\", font_size=48)\n",
    "        textZ.align_to(circleZ, RIGHT)\n",
    "        textZ.shift(0.5*LEFT)\n",
    "        self.play(Create(circleZ), Write(textZ)) # show the circle on screen\n",
    "\n",
    "        circleQ = Circle(radius=2.0, color=WHITE, fill_opacity=0.2) # create a circle\n",
    "        circleQ.align_to(circleN, LEFT)\n",
    "        textQ = MathTex(\"\\mathbb{Q}\", font_size=48)\n",
    "        textQ.align_to(circleQ, RIGHT)\n",
    "        textQ.shift(0.5*LEFT)\n",
    "        self.play(Create(circleQ), Write(textQ)) # show the circle on screen\n",
    "\n",
    "        circleR = Circle(radius=2.5, color=WHITE, fill_opacity=0.2) # create a circle\n",
    "        circleR.align_to(circleN, LEFT)\n",
    "        textR = MathTex(\"\\mathbb{R}\", font_size=48)\n",
    "        textR.align_to(circleR, RIGHT)\n",
    "        textR.shift(0.5*LEFT)\n",
    "        self.play(Create(circleR), Write(textR)) # show the circle on screen\n",
    "\n",
    "        # circleC = Circle(radius=3, color=WHITE, fill_opacity=0.2) # create a circle\n",
    "        # circleC.align_to(circleN, LEFT)\n",
    "        # textC = MathTex(\"\\mathbb{C}\", font_size=48)\n",
    "        # textC.align_to(circleC, RIGHT)\n",
    "        # textC.shift(0.5*LEFT)\n",
    "        # self.play(Create(circleC), Write(textC)) # show the circle on screen\n",
    "\n",
    "        self.wait(3)\n",
    "\n",
    "        frage = Text(\"Wo sind die \\n transzendenten \\n Zahlen?\")\n",
    "        frage.shift(4*LEFT + 2*UP)\n",
    "        self.play(Write(frage))\n",
    "        \n",
    "        self.wait(3)\n",
    "\n",
    "        circleT = Ellipse(width=5, height=4.5, color=RED, fill_opacity=0.2) # create a circle\n",
    "        circleT.align_to(circleN, LEFT)\n",
    "        textT = MathTex(\"\\mathbb{T}\", font_size=48, color=RED)\n",
    "        textT.align_to(circleT, RIGHT)\n",
    "        textT.shift(0.5*LEFT + DOWN)\n",
    "        self.play(Create(circleT), Write(textT)) # show the circle on screen\n",
    "        \n",
    "        self.wait(3)\n",
    "\n",
    "        formel1 = MathTex(\"\\mathbb{Q} \\subset \\mathbb{T}\")\n",
    "        formel2 = MathTex(\"\\mathbb{T} \\subset \\mathbb{R}\")\n",
    "        # formel3 = MathTex(\"\\mathbb{T} \\subset \\mathbb{C}\")\n",
    "        formel1.shift(4*LEFT + 0*DOWN)\n",
    "        formel2.shift(4*LEFT + 1*DOWN)\n",
    "        # formel3.shift(4*LEFT + 2*DOWN)\n",
    "        self.play(\n",
    "            Write(formel1), \n",
    "            Write(formel2),\n",
    "            # Write(formel3),\n",
    "            )\n",
    "        \n",
    "        self.wait(3)"
   ]
  },
  {
   "cell_type": "markdown",
   "id": "8d18f9e3",
   "metadata": {
    "slideshow": {
     "slide_type": "slide"
    }
   },
   "source": [
    "## Wie kann man bestimmen ob eine Zahl transzendent ist?\n",
    "\n",
    "Wir versuchen eine gegebene Zahl $x$ mit den Operationen $+$, $-$, $\\cdot$, $:$ und $()^n$ und beliebigen ganzen Zahlen so umzuformen, dass diese $0$ wird.\n",
    "Falls das möglich ist, ist $x$ algebraisch, sonst transzendental."
   ]
  },
  {
   "cell_type": "markdown",
   "id": "a163e745",
   "metadata": {
    "slideshow": {
     "slide_type": "subslide"
    }
   },
   "source": [
    "### Beispiel \n",
    "\n",
    "Unsere Zahl ist $x=10$:\n",
    "\\begin{align*}\n",
    "    10-10=0\n",
    "\\end{align*}\n",
    "\n",
    "Unsere Zahl ist $x=\\frac{3}{4}$:\n",
    "\\begin{align*}\n",
    "    (\\frac{3}{4} \\cdot 4)-3=0\n",
    "\\end{align*}\n",
    "\n",
    "Unsere Zahl ist $x=\\sqrt{2}$:\n",
    "\\begin{align*}\n",
    "    (\\sqrt{2})^2-2=0\n",
    "\\end{align*}\n",
    "\n",
    "Unsere Zahl ist $x=\\sqrt{2}+\\sqrt{3}$:\n",
    "\\begin{align*}\n",
    "    (\\sqrt{2}+\\sqrt{3})^2 &= 5 + 2\\cdot\\sqrt{6} \\\\\n",
    "    \\Rightarrow (\\sqrt{2}+\\sqrt{3})^2 - 5 &= 2\\cdot\\sqrt{6} \\\\\n",
    "    \\Rightarrow ((\\sqrt{2}+\\sqrt{3})^2-5)^2 &= 24 \\\\\n",
    "    \\Rightarrow ((\\sqrt{2}+\\sqrt{3})^2-5)^2-24 &= 0\n",
    "\\end{align*}\n",
    "\n",
    "\n",
    "Die Regel ist also: Eine Zahl $x$ ist algebraisch, falls ein Polynom $f$ existiert, sodass $f(x)=0$ gilt. Sonst ist $x$ transzentental.\n",
    "\n",
    "\n",
    "Alle Zahlen aus dem Beispiel sind also algebraisch. Generell sind alle Zahlen aus $\\mathbb{Q}$ algebraisch. Beispiele für transzendentale Zahlen sind $e$ oder $\\pi$.\n"
   ]
  },
  {
   "cell_type": "markdown",
   "id": "4a0789bc",
   "metadata": {
    "slideshow": {
     "slide_type": "slide"
    }
   },
   "source": [
    "# p-adische Zahlen"
   ]
  },
  {
   "cell_type": "markdown",
   "id": "4be5ae44",
   "metadata": {
    "slideshow": {
     "slide_type": "subslide"
    }
   },
   "source": [
    "## Was sind $p$-adische Zahlen?\n",
    "\n",
    "Neben den normalen Zahlensystemen der Dezimalzahlen oder der Binärzahlen, welche alle eine begrenzte Anzahl an Ziffern links des Kommas und möglicherweise unendlich viele Ziffern rechts des Kommas haben, kann man auch unendliche viele Ziffern links des Kommas erlauben und dafür nur endlich viele Ziffern rechts des Kommas erlauben.\n",
    "\n",
    "Dabei ist $p$ normalerweise eine belibige Primzahl.\n",
    "\n",
    "Wir betrachten im folgenden einmal die $10$-adischen Zahlen, damit wir besser zwischen den Dezimalzahlen und den $10$-adischen Zahlen vergleichen können. 10 ist hierbei keine Primzahl, darauf kommen wir später zurück."
   ]
  },
  {
   "cell_type": "markdown",
   "id": "ddc58844",
   "metadata": {
    "slideshow": {
     "slide_type": "subslide"
    }
   },
   "source": [
    "### Wie kann man das verstehen?\n",
    "Also zunächst sind alle Zahlen aus $\\mathbb{Z}$ automatisch auch $10$-adischen Zahlen. So wie man $315=315,00000\\dots$ erweitern kann, kann man auch $315=\\dots 0000315$ erweitern.\n",
    "\n",
    "Genauso sind alle rationalen Zahlen, welche endliche viele Ziffern rechts vom Komma haben auch $10$-adischen Zahlen. Z.B. $4,20=4,200000\\dots$ entspricht der $10$-adischen Zahlen $4,20=\\dots 0004,20$\n",
    "\n",
    "\n",
    "Jetzt kommen wir aber zur eigentlichenen Neuerung. Im Dezimalsystem erlauben wir auch Zahlen wie z.B. $0,\\overline{3}=\\frac{1}{3}$. Im $10$-adischen Zahlenraum erlauben wir z.B. die Zahl $\\overline{3},0$. Dabei ist aber zu beachten, dass wir nicht die beiden Zahlen gleichgesetzt haben, es gilt also $0,\\overline{3} \\not=  \\overline{3},0$."
   ]
  },
  {
   "cell_type": "markdown",
   "id": "4262caec",
   "metadata": {
    "slideshow": {
     "slide_type": "subslide"
    }
   },
   "source": [
    "### Kann man mit den p-adischen Zahlen rechnen?\n",
    "\n",
    "Wir können die Addition, Subtraktion und Multiplikation über den $p$-adische Zahlen genauso definieren, wie auch über den reellen Zahlen. Dabei muss man zwas eventuell die Rechnung unendliche Lange nach links weiterführen, das ist aber nicht so viel anders dazu, die Rechnung unendliche lange nach rechts weiterzuführen.\n"
   ]
  },
  {
   "cell_type": "markdown",
   "id": "f1322abf",
   "metadata": {
    "slideshow": {
     "slide_type": "subslide"
    }
   },
   "source": [
    "***Addition***:\n",
    "\n",
    "**Reelle Zahlen**: \n",
    "\n",
    "\\begin{align*}\n",
    "        & 0,333\\overline{3} \\\\\n",
    "    +   & 0,333\\overline{3} \\\\\n",
    "    \\hline\n",
    "        & 0,666\\overline{6} \\\\\n",
    "\\end{align*}\n",
    "\n",
    "\n",
    "**$10$-adische Zahlen**: \n",
    "\n",
    "\\begin{align*}\n",
    "    \\overline{9}99 & 9 \\\\\n",
    "    +   & 1 \\\\\n",
    "    \\hline\n",
    "    \\overline{0}00 & 0 \\\\\n",
    "\\end{align*}\n",
    "\n",
    "\n",
    "Dieses kleine Beispiel zeigt uns aber auch, dass das additive Inverse der $1$ in den $10$-adischen Zahlen $\\overline{9}999$ ist. In den reellen Zahlen gilt $1+(-1)=0$. Somit haben wir herausgefunden, dass $\\overline{9}999 \\hat{=} -1$ entspricht. Wir die weiteren negativen Zahlen können wir das Muster weiterführen:\n",
    "\n",
    "\\begin{align*}\n",
    "    \\overline{9}999 & \\hat{=} -1  \\\\\n",
    "    \\overline{9}998 & \\hat{=} -2  \\\\\n",
    "    \\overline{9}997 & \\hat{=} -3  \\\\\n",
    "    \\overline{9}996 & \\hat{=} -4  \\\\\n",
    "    \\dots\n",
    "\\end{align*}\n",
    "\n",
    "Man kann also in den $10$-adischen Zahlen eigentlich negative Zahlen ohne einen minus-Zeichen darstellen."
   ]
  },
  {
   "cell_type": "markdown",
   "id": "f18f3332",
   "metadata": {
    "slideshow": {
     "slide_type": "subslide"
    }
   },
   "source": [
    "***Multiplikation***:\n",
    "\n",
    "\n",
    "**$10$-adische Zahlen**: \n",
    "\n",
    "\\begin{align*}\n",
    "    \\overline{6}66 & 7 \\\\\n",
    "    \\cdot   & 3 \\\\\n",
    "    \\hline\n",
    "    \\overline{0}00 & 1 \\\\\n",
    "\\end{align*}\n",
    "\n",
    "Dieses Beispiel hat uns gezeigt, dass das multiplikative inverse von $3$ in den $10$-adischen Zahlen $\\overline{6}667$ ist. Somit entspricht $\\overline{6}667 \\hat{=} \\frac{1}{3}$\n",
    "\n",
    "\n",
    "Mit diesem Wissen können wir nun versuchen weitere rationalen Zahlen herleiten, ohne dabei ein Komma zu verwenden:\n",
    "\n",
    "Was ist die $10$-adische Zahl von $-\\frac{1}{3}$?\n",
    "\n",
    "1. Bestimme die $10$-adische Zahl von $\\frac{1}{3}$:\n",
    "\n",
    "    \\begin{align*}\n",
    "        x \\cdot 3 &= 1 \\\\\n",
    "        \\Rightarrow x &= \\overline{6}667\n",
    "    \\end{align*}\n",
    "\n",
    "2. Bestimme die $10$-adische Zahl von $-\\frac{1}{3}$:\n",
    "\n",
    "    \\begin{align*}\n",
    "        x + \\overline{6}66 7 &= 0 \\\\\n",
    "        \\Rightarrow x &= \\overline{3}333\n",
    "    \\end{align*}\n",
    "\n",
    "    Also entspricht $\\overline{3}333 \\hat{=} -\\frac{1}{3}$.\n",
    "\n",
    "\n",
    "\n",
    "\n",
    "Was ist die $10$-adische Zahl von $-\\frac{3}{4}$?\n",
    "\n",
    "1. Bestimme die $10$-adische Zahl von $\\frac{1}{4}$:\n",
    "\n",
    "    \\begin{align*}\n",
    "        x \\cdot 4 &= 1 \\\\\n",
    "        \\dots x_3 x_2 x_1 x_0 \\cdot 4 &= 1\n",
    "    \\end{align*}\n",
    "\n",
    "    Hier haben wir unser erstes Problem mit der Basis $10$. Es existiert keine Ziffer $x_0 \\in \\{0, \\dots, 9\\}$, sodass $(x_0 \\cdot 4) \\text{ mod } 10 = 1$ gilt. Würden wir als Basis eine Primzahl wählen, würde immer eine solche Zahl existieren. Für die Basis $10$ lässt sich also nicht immer eine 10-adische ganze Zahl finden."
   ]
  },
  {
   "cell_type": "markdown",
   "id": "7b95770f",
   "metadata": {
    "slideshow": {
     "slide_type": "slide"
    }
   },
   "source": [
    "# Das Paper\n",
    "\n",
    "In dem Paper *Real and p-adic expansions involving symmetric patterns* untersuchen *Boris ADAMCZEWSKI* und *Yann BUGEAUD*, in was für einem Zusammenhang eine reale Zahl und eine p-adische Zahl im Bezug auf ihre Transzendenz bei gleicher Folge sind. Dabei nennen sie ein ähnliche Problem als Basis und erweitern dieses um die $p$-adischen Zahlen."
   ]
  },
  {
   "cell_type": "markdown",
   "id": "d1f3966c",
   "metadata": {
    "slideshow": {
     "slide_type": "subslide"
    }
   },
   "source": [
    "## Das Problem\n",
    "\n",
    "### Das *Mahler–Mendés France* Problem lautet wie folgt:\n",
    "\n",
    "Für eine unendliche Folge $a=(a_k)_{k \\geq 1}$ aus 0'en und 1'en gilt für die zwei reellen Zahlen $$\\sum_{k=1}^{\\infty}\\frac{a_k}{2^k} \\qquad \\text{und} \\qquad \\sum_{k=1}^{\\infty}\\frac{a_k}{3^k}$$, dass beide algebraisch sind, genau dann wenn beide auch rational sind.\n",
    "\n",
    "\n",
    "### Das p-adische Problem von *Boris ADAMCZEWSKI* und *Yann BUGEAUD* lautet so:\n",
    "\n",
    "Für eine Primzahl $p$ und eine unendliche Folge $a=(a_k)_{k \\geq 1}$ über $\\{0,1,\\dots,p-1\\}$ gilt für die zwei Zahlen $$\\alpha = \\sum_{k=1}^{\\infty}\\frac{a_k}{p^k} \\qquad \\text{und} \\qquad \\alpha_p = \\sum_{k=1}^{\\infty}a_k p^k$$, dass beide algebraisch sind, genau dann wenn beide auch rational sind.\n",
    "\n",
    "\n",
    "Dabei konvergieren die Folgen gegen eine rationale Zahl, wenn die Folge irgendwann periodisch wird. Man kan die Folgen dann nähmlich in endlich viele unterfolgen aufteilen, welche dann geometrischen Reihen ähneln. Diese konvergieren gegen eine rationale Zahl und die Summe von rationalen Zahlen ist auch wieder rational. Eine andere Formulierung für das Problem wäre also: Genau dann wenn die Folge $a$ irgendwann periodisch ist, sind beide Zahlen algebraisch oder genau dann wenn die Folge $a$ nicht irgendwann periodisch ist, dann ist min. eine der Zahlen transzendent.\n",
    "\n",
    "\n",
    "Um dieses Problem zu untersuchen, stellen sie drei Theoreme auf, welche sie im Verlauf des Papers beweisen. Mit diesen Theoremen lässt sich das Problem für eine eingeschränkte Menge an Folgen beweisen, nähmlich den palindromischen Folgen.\n",
    "\n",
    "### Theorem A\n",
    "Seien $q_1$ und $q_2$ zwei Potenzen von unterschiedlichen Primzahlen mit $q_1 < q_2$. Sei $a=(a_k)_{k \\geq 1}$ über $\\{0,1,\\dots,q_1-1\\}$ eine unendliche Folge. Setze nun $$f(X) = \\sum_{k=1}^{\\infty}a_k X^k \\in F_{q_1}((X)) \\qquad \\text{und} \\qquad g(X) = \\sum_{k=1}^{\\infty}a_k X^k \\in F_{q_2}((X)) $$. Dann sind $f$ und $g$ zwei algebraische Funktionen, genau dann wenn beide rational sind.\n",
    "\n",
    "### Theorem B\n",
    "Seien $p$ eine Primzahlen. Sei $a=(a_k)_{k \\geq 1}$ über $\\{0,1,\\dots,p-1\\}$ eine unendliche Folge. Setze nun $$\\alpha = \\sum_{k=1}^{\\infty}\\frac{a_k}{p^k} \\qquad \\text{und} \\qquad f(X) = \\sum_{k=1}^{\\infty}a_k X^k \\in F_{p}((X)) $$. Dann sind $\\alpha$ und $f$ algebraisch, genau dann wenn beide rational sind."
   ]
  },
  {
   "cell_type": "markdown",
   "id": "092bce7c",
   "metadata": {
    "slideshow": {
     "slide_type": "subslide"
    }
   },
   "source": [
    "## Beispiel\n",
    "\n",
    "Um diese Probleme und die Theoreme genauer zu verstehen schauen wir uns dazu ein paar kleine Beispiele an. Fangen wir dazu mit dem *Boris ADAMCZEWSKI* und *Yann BUGEAUD* Problem an. "
   ]
  },
  {
   "cell_type": "markdown",
   "id": "bef6e0a5",
   "metadata": {
    "slideshow": {
     "slide_type": "skip"
    }
   },
   "source": [
    "### Code\n",
    "Im folgenden habe ich etwas code erstellt, mit welchem man mit p-adischen Zahlen rechnen kann."
   ]
  },
  {
   "cell_type": "code",
   "execution_count": 7,
   "id": "88ddc790",
   "metadata": {
    "ExecuteTime": {
     "end_time": "2025-09-17T12:21:11.847203Z",
     "start_time": "2025-09-17T12:21:11.828496Z"
    }
   },
   "outputs": [],
   "source": [
    "class PAdic:\n",
    "    def __init__(self, value: int, p: int, precision: int = 10):\n",
    "        \"\"\"\n",
    "        value: Ganze Zahl, die dargestellt werden soll\n",
    "        p: Primzahlbasis\n",
    "        precision: Anzahl Ziffern in p-adischer Entwicklung\n",
    "        \"\"\"\n",
    "        if p < 2:\n",
    "            raise ValueError(\"p muss >= 2 sein\")\n",
    "        \n",
    "        negative = False\n",
    "        if(value < 0):\n",
    "            negative = True\n",
    "            value = -value\n",
    "\n",
    "        self.p = p\n",
    "        self.precision = precision\n",
    "        self.value = value % (p ** precision)\n",
    "        self.digits = self._to_digits()\n",
    "\n",
    "        if(negative):\n",
    "            negated_self = -self\n",
    "            self.value = negated_self.value\n",
    "            self.digits = negated_self.digits\n",
    "\n",
    "    def _to_digits(self):\n",
    "        \"\"\"Zerlegt self.value in p-adische Ziffern\"\"\"\n",
    "        n = self.value\n",
    "        digits = []\n",
    "        for _ in range(self.precision):\n",
    "            digits.append(n % self.p)\n",
    "            n //= self.p\n",
    "        return digits\n",
    "\n",
    "    def __str__(self):\n",
    "        \"\"\"Gibt die p-adische Entwicklung aus (z.B. [a0,a1,a2,...]_p)\"\"\"\n",
    "        return f\"{self.digits}_({self.p}-adisch)\"\n",
    "    \n",
    "    def __neg__(self):\n",
    "        from copy import deepcopy\n",
    "        new_PAdic = deepcopy(self)\n",
    "\n",
    "        carry = 1\n",
    "        for i in range(new_PAdic.precision):\n",
    "            new_PAdic.digits[i] = new_PAdic.p-1-new_PAdic.digits[i] + carry\n",
    "            carry = (int)(new_PAdic.digits[i] / new_PAdic.p)\n",
    "            new_PAdic.digits[i] = new_PAdic.digits[i] % new_PAdic.p\n",
    "        new_PAdic.value = -new_PAdic.value\n",
    "        return new_PAdic\n",
    "\n",
    "    def __add__(self, other):\n",
    "        if (not isinstance(other, PAdic) or self.p != other.p) and not isinstance(other, int):\n",
    "            raise ValueError(\"Addition nur für gleiche p-adische Basen definiert\")\n",
    "        \n",
    "        if(isinstance(other, int)):\n",
    "            other = PAdic(value=other, p=self.p, precision=self.precision)\n",
    "\n",
    "        from copy import deepcopy\n",
    "        new_PAdic = deepcopy(self)\n",
    "\n",
    "        carry = 0\n",
    "        for i in range(new_PAdic.precision):\n",
    "            new_PAdic.digits[i] = self.digits[i]+other.digits[i] + carry\n",
    "            carry = (int)(new_PAdic.digits[i] / new_PAdic.p)\n",
    "            new_PAdic.digits[i] = new_PAdic.digits[i] % new_PAdic.p\n",
    "        new_PAdic.value = self.value + other.value\n",
    "        return new_PAdic\n",
    "    \n",
    "    def __sub__(self, other):\n",
    "        if (not isinstance(other, PAdic) or self.p != other.p) and not isinstance(other, int):\n",
    "            raise ValueError(\"Addition nur für gleiche p-adische Basen definiert\")\n",
    "        \n",
    "        if(isinstance(other, int)):\n",
    "            other = PAdic(value=other, p=self.p, precision=self.precision)\n",
    "        \n",
    "        return self + (-other)\n",
    "\n",
    "    def __mul__(self, other):\n",
    "        if (not isinstance(other, PAdic) or self.p != other.p) and not isinstance(other, int):\n",
    "            raise ValueError(\"Multiplikation nur für gleiche p-adische Basen definiert\")\n",
    "        \n",
    "        if(isinstance(other, int)):\n",
    "            other = PAdic(value=other, p=self.p, precision=self.precision)\n",
    "\n",
    "        from copy import deepcopy\n",
    "        new_PAdic = deepcopy(self)\n",
    "\n",
    "        carry = 0\n",
    "        for i in range(new_PAdic.precision):\n",
    "            new_PAdic.digits[i] = sum(self.digits[j]*other.digits[i-j] for j in range(i+1)) + carry\n",
    "            carry = (int)(new_PAdic.digits[i] / new_PAdic.p)\n",
    "            new_PAdic.digits[i] = new_PAdic.digits[i] % new_PAdic.p\n",
    "        new_PAdic.value = self.value * other.value\n",
    "        return new_PAdic\n",
    "    \n",
    "    def __pow__(self, pow):\n",
    "        if not isinstance(pow, int):\n",
    "            raise ValueError(\"Multiplikation nur für ganze Zahlen definiert.\")\n",
    "\n",
    "        from copy import deepcopy\n",
    "        new_PAdic = PAdic(value=1, p=p, precision=precision)\n",
    "\n",
    "        for _ in range(pow):\n",
    "            new_PAdic = new_PAdic*self\n",
    "        \n",
    "        return new_PAdic\n",
    "\n",
    "    def __eq__(self, other):\n",
    "        return (\n",
    "            isinstance(other, PAdic) and\n",
    "            self.p == other.p and\n",
    "            self.value == other.value and\n",
    "            self.precision == other.precision\n",
    "        )\n",
    "\n",
    "    def distance(self, other) -> float:\n",
    "        \"\"\"\n",
    "        p-adische Distanz zwischen zwei PAdic-Zahlen.\n",
    "        \"\"\"\n",
    "        if not isinstance(other, PAdic) or self.p != other.p or self.precision != other.precision:\n",
    "            raise ValueError(\"Distanz nur für gleiche p-adische Basis und Präzision definiert\")\n",
    "        \n",
    "        for i in range(self.precision):\n",
    "            if(self.digits[i] != other.digits[i]):\n",
    "                return self.p**(-i)\n",
    "        return 0.0\n",
    "    \n",
    "    @staticmethod\n",
    "    def _valuation(n: int, p: int) -> int:\n",
    "        \"\"\"Hilfsfunktion: v_p(n). convention: v_p(0) = +∞.\"\"\"\n",
    "        if n == 0:\n",
    "            return float(\"inf\")\n",
    "        k = 0\n",
    "        while n % p == 0:\n",
    "            n //= p\n",
    "            k += 1\n",
    "        return k\n",
    "    \n",
    "    @staticmethod\n",
    "    def p_adic_distance(a: int, b: int, p: int) -> float:\n",
    "        \"\"\"\n",
    "        Berechnet die p-adische Distanz zwischen zwei ganzen Zahlen.\n",
    "        \"\"\"\n",
    "        if a == b:\n",
    "            return 0.0\n",
    "        v = PAdic._valuation(a - b, p)\n",
    "        return p ** (-v)\n",
    "    \n",
    "    @staticmethod\n",
    "    def PAdic_from_lambda(function, p, precision = 10):\n",
    "        import time\n",
    "\n",
    "        time_out = 5\n",
    "\n",
    "        x = 1\n",
    "        value = function(x)\n",
    "        distance = float(\"inf\")\n",
    "\n",
    "        t_end = time.time() + time_out\n",
    "        while time.time() < t_end:\n",
    "            x += 1\n",
    "            new_value = function(x)  % p**precision\n",
    "            new_distance = PAdic.p_adic_distance(value, new_value, p)\n",
    "            if(distance < new_distance):\n",
    "                raise Exception(\"The function does not converge to a p-adic number.\")\n",
    "            value = new_value\n",
    "            distance = new_distance\n",
    "\n",
    "            \n",
    "        print(f\"[Finished Computing function({x}). {(t_end - time.time()).__round__(2)} seconds left.]\")\n",
    "        return PAdic(value=value, p=p, precision=precision)"
   ]
  },
  {
   "cell_type": "code",
   "execution_count": 8,
   "id": "a90ac768",
   "metadata": {
    "ExecuteTime": {
     "end_time": "2025-09-17T12:21:11.868476Z",
     "start_time": "2025-09-17T12:21:11.861858Z"
    }
   },
   "outputs": [
    {
     "name": "stdout",
     "output_type": "stream",
     "text": [
      "\n",
      "[Beispiel 1]\n",
      "x: [2, 1, 0, 0, 0, 0]_(3-adisch)\n",
      "y: [1, 0, 1, 0, 0, 0]_(3-adisch)\n",
      "z: [2, 0, 0, 0, 0, 0]_(3-adisch)\n",
      "a: [2, 2, 2, 2, 2, 2]_(3-adisch)\n",
      "x+y: [0, 2, 1, 0, 0, 0]_(3-adisch)\n",
      "x-a: [0, 2, 0, 0, 0, 0]_(3-adisch)\n",
      "x*y: [2, 1, 2, 1, 0, 0]_(3-adisch)\n",
      "x*x: [1, 2, 2, 0, 0, 0]_(3-adisch)\n",
      "d(x,y): 1\n",
      "d(x,z): 0.3333333333333333\n",
      "d(x,(x*y)): 0.1111111111111111\n"
     ]
    }
   ],
   "source": [
    "### Beispiel 1 (simple Values):\n",
    "print(f\"\")\n",
    "print(f\"[Beispiel 1]\")\n",
    "b = 3\n",
    "precision = 6\n",
    "\n",
    "x = PAdic(value=5, p=b, precision=precision)   # 5 in b-adisch mit 6 Ziffern\n",
    "y = PAdic(value=10, p=b, precision=precision)\n",
    "z = PAdic(value=2, p=b, precision=precision)\n",
    "a = PAdic(value=-1, p=b, precision=precision)\n",
    "\n",
    "print(f\"x: {x}\")   # -> [2, 1, 0, 0, 0, 0]_(b-adisch)\n",
    "print(f\"y: {y}\")   # -> [1, 0, 1, 0, 0, 0]_(b-adisch)\n",
    "print(f\"z: {z}\")   # -> [2, 0, 0, 0, 0, 0]_(b-adisch)\n",
    "print(f\"a: {a}\")   # -> [2, 2, 2, 2, 2, 2]_(b-adisch)\n",
    "\n",
    "print(f\"x+y: {x + y}\")   # Addition\n",
    "print(f\"x-a: {x - a}\")   # Addition\n",
    "print(f\"x*y: {x * y}\")   # Multiplikation\n",
    "print(f\"x*x: {x * x}\")   # Multiplikation\n",
    "\n",
    "print(f\"d(x,y): {x.distance(y)}\")\n",
    "print(f\"d(x,z): {x.distance(z)}\")\n",
    "print(f\"d(x,(x*y)): {x.distance(x*y)}\")"
   ]
  },
  {
   "cell_type": "code",
   "execution_count": 9,
   "id": "fbba1268",
   "metadata": {
    "ExecuteTime": {
     "end_time": "2025-09-17T12:21:17.460038Z",
     "start_time": "2025-09-17T12:21:11.879574Z"
    }
   },
   "outputs": [
    {
     "name": "stdout",
     "output_type": "stream",
     "text": [
      "\n",
      "[Beispiel 2]\n",
      "[Finished Computing function(13). -0.12 seconds left.]\n",
      "x: [2, 1, 2, 1, 3, 4, 2, 3, 0, 3, 2, 2, 0, 4, 0]_(5-adisch)\n",
      "|x*x + 1|: [0, 0, 0, 0, 0, 0, 0, 0, 0, 0, 0, 0, 0, 0, 1]_(5-adisch)\n"
     ]
    }
   ],
   "source": [
    "### Beispiel 2 (p-adic from function):\n",
    "print(f\"\")\n",
    "print(f\"[Beispiel 2]\")\n",
    "b = 5\n",
    "precision = 15\n",
    "\n",
    "f = lambda x : 2**(5**x)\n",
    "\n",
    "x = PAdic.PAdic_from_lambda(function=f, p=b, precision=precision)   # 5 in b-adisch mit 6 Ziffern\n",
    "\n",
    "print(f\"x: {x}\")\n",
    "print(f\"|x*x + 1|: {x*x + 1}\")"
   ]
  },
  {
   "cell_type": "code",
   "execution_count": 10,
   "id": "f8eb5837",
   "metadata": {
    "ExecuteTime": {
     "start_time": "2025-09-17T12:22:00.154543Z"
    },
    "jupyter": {
     "is_executing": true
    }
   },
   "outputs": [
    {
     "name": "stdout",
     "output_type": "stream",
     "text": [
      "\n",
      "[Beispiel 3]\n",
      "[Finished Computing function(10). -36.77 seconds left.]\n",
      "x: [6, 7, 3, 9, 0, 1, 7, 8, 7, 1, 8, 6, 9, 4, 5]_(10-adisch)\n",
      "|x*x - x|: [0, 0, 0, 0, 0, 0, 0, 0, 0, 0, 0, 6, 9, 0, 8]_(10-adisch)\n"
     ]
    }
   ],
   "source": [
    "### Beispiel 3 (p-adic from function):\n",
    "print(f\"\")\n",
    "print(f\"[Beispiel 3]\")\n",
    "b = 10\n",
    "precision = 15\n",
    "\n",
    "g = lambda x : 2**(10**x)\n",
    "\n",
    "x = PAdic.PAdic_from_lambda(function=g, p=b, precision=precision)   # 5 in b-adisch mit 6 Ziffern\n",
    "\n",
    "print(f\"x: {x}\")\n",
    "print(f\"|x*x - x|: {x*x - x}\")"
   ]
  },
  {
   "cell_type": "markdown",
   "id": "dc4640a9",
   "metadata": {
    "slideshow": {
     "slide_type": "subslide"
    }
   },
   "source": [
    "### Beispiel 1\n",
    "\n",
    "Nemen wir mal $p=3$ und als Folge $a_k=2$ für alle $k\\in\\mathbb{N}$. Wir erhalten die zwei Zahlen $$\\alpha = \\sum_{k=1}^{\\infty}\\frac{2}{3^k} = 1$$ und $$\\alpha_p = \\sum_{k=1}^{\\infty}2\\cdot3^k = \\overline{2}222$$.\n",
    "\n",
    "Beide Zahlen sind algebraisch: $\\alpha-1 = 0$ und $\\alpha_p + 1 = 0$\n",
    "\n",
    "Wenn die Aussage also war wäre, müssten beide Zahlen auch rational sein: $\\alpha = \\frac{1}{1}$ und $\\alpha_p$ ist auch rational weil $(a_k)_{k\\in\\mathbb{N}}$ periodisch ist."
   ]
  },
  {
   "cell_type": "code",
   "execution_count": 11,
   "id": "aab7da36",
   "metadata": {
    "ExecuteTime": {
     "end_time": "2025-09-17T10:21:54.208848Z",
     "start_time": "2025-09-17T10:21:54.203030Z"
    }
   },
   "outputs": [
    {
     "name": "stdout",
     "output_type": "stream",
     "text": [
      "a: 1\n",
      "a_p: [2, 2, 2, 2, 2, 2]_(3-adisch)\n",
      "a-1: 0\n",
      "a_p+1: [0, 0, 0, 0, 0, 0]_(3-adisch)\n"
     ]
    }
   ],
   "source": [
    "b = 3\n",
    "precision = 6\n",
    "\n",
    "a = 1\n",
    "ap = PAdic(value=-1, p=b, precision=precision)   # 5 in b-adisch mit 6 Ziffern\n",
    "\n",
    "print(f\"a: {a}\")   # -> 1\n",
    "print(f\"a_p: {ap}\")   # -> [2, 2, 2, 2, 2, 2]_(b-adisch)\n",
    "\n",
    "\n",
    "print(f\"a-1: {a-1}\")   # -> 0\n",
    "print(f\"a_p+1: {ap+1}\")   # -> [0, 0, 0, 0, 0, 0]_(b-adisch)"
   ]
  },
  {
   "cell_type": "markdown",
   "id": "3c183e67",
   "metadata": {
    "slideshow": {
     "slide_type": "subslide"
    }
   },
   "source": [
    "### Beispiel 2\n",
    "\n",
    "Nemen wir mal $p=5$ und als Folge die Ziffern der Zahl $2**(5**x)$ in Basis $5$, wenn man $x$ gegen unendlich Laufen lässt. Dabei entsteht tatsächlich eine Folge $(a_k)_{k\\in\\mathbb{N}}=(2, 1, 2, 1, 3, 4, 2, 3, 0, 3, 2, 2, 0, \\dots)$. Wir erhalten die zwei Zahlen $$\\alpha = \\sum_{k=1}^{\\infty}\\frac{a_k}{5^k} = 0,45884963706241024\\dots$$ und $$\\alpha_p = \\sum_{k=1}^{\\infty}a_k\\cdot5^k = \\dots3032431212$$.\n",
    "\n",
    "Die p-adische Zahl ist algebraisch: $\\alpha_p^2 + 1 = 0$\n",
    "\n",
    "Nun wissen wir aber nicht ob $\\alpha_p$ oder $\\alpha$ auch rational sind, da wir nicht wissen, ob die Folge periodisch ist. Auch wissen wir nicht, ob $\\alpha$ algebraisch ist oder nicht. "
   ]
  },
  {
   "cell_type": "code",
   "execution_count": 12,
   "id": "d4a8c677",
   "metadata": {
    "ExecuteTime": {
     "end_time": "2025-09-17T10:22:21.274558Z",
     "start_time": "2025-09-17T10:21:54.226581Z"
    }
   },
   "outputs": [
    {
     "name": "stdout",
     "output_type": "stream",
     "text": [
      "[Finished Computing function(14). -22.86 seconds left.]\n",
      "a_p: [2, 1, 2, 1, 3, 4, 2, 3, 0, 3]_(5-adisch)\n",
      "|a_p*a_p + 1|: [0, 0, 0, 0, 0, 0, 0, 0, 0, 0]_(5-adisch)\n"
     ]
    }
   ],
   "source": [
    "b = 5\n",
    "precision = 10\n",
    "\n",
    "f = lambda x : 2**(5**x)\n",
    "\n",
    "ap = PAdic.PAdic_from_lambda(function=f, p=b, precision=precision)   # 5 in b-adisch mit 6 Ziffern\n",
    "\n",
    "print(f\"a_p: {ap}\")\n",
    "print(f\"|a_p*a_p + 1|: {ap*ap + 1}\")"
   ]
  }
 ],
 "metadata": {
  "celltoolbar": "Slideshow",
  "kernelspec": {
   "display_name": ".venv",
   "language": "python",
   "name": "python3"
  },
  "language_info": {
   "codemirror_mode": {
    "name": "ipython",
    "version": 3
   },
   "file_extension": ".py",
   "mimetype": "text/x-python",
   "name": "python",
   "nbconvert_exporter": "python",
   "pygments_lexer": "ipython3",
   "version": "3.13.7"
  },
  "rise": {
   "autolaunch": true
  },
  "toc": {
   "base_numbering": 1,
   "nav_menu": {},
   "number_sections": true,
   "sideBar": true,
   "skip_h1_title": false,
   "title_cell": "Table of Contents",
   "title_sidebar": "Contents",
   "toc_cell": false,
   "toc_position": {},
   "toc_section_display": true,
   "toc_window_display": false
  }
 },
 "nbformat": 4,
 "nbformat_minor": 5
}
